{
 "cells": [
  {
   "cell_type": "code",
   "execution_count": 2,
   "id": "465ee9b3",
   "metadata": {},
   "outputs": [
    {
     "name": "stderr",
     "output_type": "stream",
     "text": [
      "fatal: destination path 'yemoonsaBigdata' already exists and is not an empty directory.\n"
     ]
    }
   ],
   "source": [
    "!git clone https://github.com/AnalyticsKnight/yemoonsaBigdata/"
   ]
  },
  {
   "cell_type": "markdown",
   "id": "be16a3be",
   "metadata": {},
   "source": [
    "2. 작업형 제1유형"
   ]
  },
  {
   "cell_type": "markdown",
   "id": "ce8faabe",
   "metadata": {},
   "source": [
    "(1) 다음은 Boston Housing 데이터 세트이다. 범죄율 컬럼인 Crim 항목의 상위에서 10번째 값(즉, 범죄율을 큰 순서로 오름차순 정렬했을 때 10번째에 위치한 값)으로 상위 10개의 값을 변환한 후, age가 80 이상인 데이터를 추출하여 crim의 평균값을 계산하시오."
   ]
  },
  {
   "cell_type": "code",
   "execution_count": 6,
   "id": "d7830511",
   "metadata": {},
   "outputs": [
    {
     "name": "stdout",
     "output_type": "stream",
     "text": [
      "      CRIM    ZN  INDUS  CHAS    NOX     RM   AGE     DIS  RAD    TAX  \\\n",
      "0  0.00632  18.0   2.31   0.0  0.538  6.575  65.2  4.0900  1.0  296.0   \n",
      "1  0.02731   0.0   7.07   0.0  0.469  6.421  78.9  4.9671  2.0  242.0   \n",
      "2  0.02729   0.0   7.07   0.0  0.469  7.185  61.1  4.9671  2.0  242.0   \n",
      "3  0.03237   0.0   2.18   0.0  0.458  6.998  45.8  6.0622  3.0  222.0   \n",
      "4  0.06905   0.0   2.18   0.0  0.458  7.147  54.2  6.0622  3.0  222.0   \n",
      "\n",
      "   PTRATIO       B  LSTAT  \n",
      "0     15.3  396.90   4.98  \n",
      "1     17.8  396.90   9.14  \n",
      "2     17.8  392.83   4.03  \n",
      "3     18.7  394.63   2.94  \n",
      "4     18.7  396.90   5.33  \n"
     ]
    }
   ],
   "source": [
    "import pandas as pd\n",
    "\n",
    "boston = pd.read_csv(\"./yemoonsaBigdata/datasets/Part3/201_boston.csv\")\n",
    "print(boston.head(5))"
   ]
  },
  {
   "cell_type": "code",
   "execution_count": 9,
   "id": "2f9d8cd1",
   "metadata": {},
   "outputs": [
    {
     "name": "stdout",
     "output_type": "stream",
     "text": [
      "        CRIM   ZN  INDUS  CHAS    NOX     RM    AGE     DIS   RAD    TAX  \\\n",
      "380  88.9762  0.0   18.1   0.0  0.671  6.968   91.9  1.4165  24.0  666.0   \n",
      "418  73.5341  0.0   18.1   0.0  0.679  5.957  100.0  1.8026  24.0  666.0   \n",
      "405  67.9208  0.0   18.1   0.0  0.693  5.683  100.0  1.4254  24.0  666.0   \n",
      "410  51.1358  0.0   18.1   0.0  0.597  5.757  100.0  1.4130  24.0  666.0   \n",
      "414  45.7461  0.0   18.1   0.0  0.693  4.519  100.0  1.6582  24.0  666.0   \n",
      "404  41.5292  0.0   18.1   0.0  0.693  5.531   85.4  1.6074  24.0  666.0   \n",
      "398  38.3518  0.0   18.1   0.0  0.693  5.453  100.0  1.4896  24.0  666.0   \n",
      "427  37.6619  0.0   18.1   0.0  0.679  6.202   78.7  1.8629  24.0  666.0   \n",
      "413  28.6558  0.0   18.1   0.0  0.597  5.155  100.0  1.5894  24.0  666.0   \n",
      "417  25.9406  0.0   18.1   0.0  0.679  5.304   89.1  1.6475  24.0  666.0   \n",
      "\n",
      "     PTRATIO       B  LSTAT  \n",
      "380     20.2  396.90  17.21  \n",
      "418     20.2   16.45  20.62  \n",
      "405     20.2  384.97  22.98  \n",
      "410     20.2    2.60  10.11  \n",
      "414     20.2   88.27  36.98  \n",
      "404     20.2  329.46  27.38  \n",
      "398     20.2  396.90  30.59  \n",
      "427     20.2   18.82  14.52  \n",
      "413     20.2  210.97  20.08  \n",
      "417     20.2  127.36  26.64  \n"
     ]
    }
   ],
   "source": [
    "boston_sort = boston.sort_values('CRIM', ascending=False)\n",
    "print(boston_sort.head(10))"
   ]
  },
  {
   "cell_type": "code",
   "execution_count": 12,
   "id": "0456d05e",
   "metadata": {},
   "outputs": [
    {
     "name": "stdout",
     "output_type": "stream",
     "text": [
      "25.9406\n"
     ]
    }
   ],
   "source": [
    "crim10_value = boston_sort.iloc[9,0]\n",
    "print(crim10_value)"
   ]
  },
  {
   "cell_type": "code",
   "execution_count": 16,
   "id": "373337fd",
   "metadata": {},
   "outputs": [
    {
     "name": "stdout",
     "output_type": "stream",
     "text": [
      "5.759386624999999\n"
     ]
    }
   ],
   "source": [
    "boston_sort.iloc[:9,0] = crim10_value\n",
    "\n",
    "boston_sort_80 = boston_sort[boston_sort['AGE'] >=80]\n",
    "result = boston_sort_80['CRIM'].mean()\n",
    "print(result)"
   ]
  },
  {
   "cell_type": "markdown",
   "id": "e25c319a",
   "metadata": {},
   "source": [
    "(2) 다음은 California Housing 데이터 세트이다. 주어진 데이터의 첫 번쨰 행부터 순서대로 80%까지의 데이터를 훈련 데이터로 추출 후, 전체 방 개수 컬럼을 의미하는 'total bedrooms' 변수의 결측치를 'total_bedrooms' 변수의 중앙값으로 대체한 데이터 세트를 구성합니다. 결측치 대체 전의 'total_bedrooms' 변수 표준편차 값과 결측치 대체 후의 'total_bedrooms' 변수 표준편차 값의 차이에 대한 절댓값을 계산하시오."
   ]
  },
  {
   "cell_type": "code",
   "execution_count": 24,
   "id": "15c02694",
   "metadata": {},
   "outputs": [
    {
     "name": "stdout",
     "output_type": "stream",
     "text": [
      "   longitude  latitude  housing_median_age  total_rooms  total_bedrooms  \\\n",
      "0    -122.23     37.88                41.0        880.0           129.0   \n",
      "1    -122.22     37.86                21.0       7099.0          1106.0   \n",
      "2    -122.24     37.85                52.0       1467.0           190.0   \n",
      "3    -122.25     37.85                52.0       1274.0           235.0   \n",
      "4    -122.25     37.85                52.0       1627.0           280.0   \n",
      "\n",
      "   population  households  median_income  median_house_value ocean_proximity  \n",
      "0       322.0       126.0         8.3252            452600.0        NEAR BAY  \n",
      "1      2401.0      1138.0         8.3014            358500.0        NEAR BAY  \n",
      "2       496.0       177.0         7.2574            352100.0        NEAR BAY  \n",
      "3       558.0       219.0         5.6431            341300.0        NEAR BAY  \n",
      "4       565.0       259.0         3.8462            342200.0        NEAR BAY  \n"
     ]
    }
   ],
   "source": [
    "import pandas as pd\n",
    "\n",
    "housing = pd.read_csv('./yemoonsaBigdata/datasets/Part3/202_housing.csv')\n",
    "print(housing.head(5))"
   ]
  },
  {
   "cell_type": "code",
   "execution_count": 25,
   "id": "d15a9d16",
   "metadata": {},
   "outputs": [
    {
     "name": "stdout",
     "output_type": "stream",
     "text": [
      "0         129.0\n",
      "1        1106.0\n",
      "2         190.0\n",
      "3         235.0\n",
      "4         280.0\n",
      "          ...  \n",
      "16507     599.0\n",
      "16508     331.0\n",
      "16509     411.0\n",
      "16510     941.0\n",
      "16511     417.0\n",
      "Name: total_bedrooms, Length: 16512, dtype: float64\n"
     ]
    }
   ],
   "source": [
    "value = int(len(housing) * 0.8)\n",
    "bedrooms = housing['total_bedrooms'][:value]\n",
    "\n",
    "print(bedrooms)"
   ]
  },
  {
   "cell_type": "code",
   "execution_count": 28,
   "id": "2863144f",
   "metadata": {},
   "outputs": [
    {
     "name": "stdout",
     "output_type": "stream",
     "text": [
      "1.975147291645726\n"
     ]
    }
   ],
   "source": [
    "std1 = bedrooms.std()\n",
    "med = bedrooms.median()\n",
    "\n",
    "bedrooms_fill = bedrooms.fillna(med)\n",
    "std2 = bedrooms_fill.std()\n",
    "\n",
    "print(abs(std1 - std2))"
   ]
  },
  {
   "cell_type": "markdown",
   "id": "48a6538b",
   "metadata": {},
   "source": [
    "(3) 2번 문항에서 활용한 California Housing 데이터 세트를 그대로 활용한다. 인구 컬럼인 population 항목의 이상값의 합계를 계산하시오. (* 이상값은 평균에서 1.5x표준편차를 초과하거나 미만인 값의 범위로 정한다.)"
   ]
  },
  {
   "cell_type": "code",
   "execution_count": 29,
   "id": "9c8deac4",
   "metadata": {},
   "outputs": [
    {
     "name": "stdout",
     "output_type": "stream",
     "text": [
      "   longitude  latitude  housing_median_age  total_rooms  total_bedrooms  \\\n",
      "0    -122.23     37.88                41.0        880.0           129.0   \n",
      "1    -122.22     37.86                21.0       7099.0          1106.0   \n",
      "2    -122.24     37.85                52.0       1467.0           190.0   \n",
      "3    -122.25     37.85                52.0       1274.0           235.0   \n",
      "4    -122.25     37.85                52.0       1627.0           280.0   \n",
      "\n",
      "   population  households  median_income  median_house_value ocean_proximity  \n",
      "0       322.0       126.0         8.3252            452600.0        NEAR BAY  \n",
      "1      2401.0      1138.0         8.3014            358500.0        NEAR BAY  \n",
      "2       496.0       177.0         7.2574            352100.0        NEAR BAY  \n",
      "3       558.0       219.0         5.6431            341300.0        NEAR BAY  \n",
      "4       565.0       259.0         3.8462            342200.0        NEAR BAY  \n"
     ]
    }
   ],
   "source": [
    "import pandas as pd\n",
    "\n",
    "housing = pd.read_csv('./yemoonsaBigdata/datasets/Part3/202_housing.csv')\n",
    "print(housing.head(5))"
   ]
  },
  {
   "cell_type": "code",
   "execution_count": 31,
   "id": "3177f6d1",
   "metadata": {},
   "outputs": [
    {
     "name": "stdout",
     "output_type": "stream",
     "text": [
      "5607295.0\n"
     ]
    }
   ],
   "source": [
    "mean = housing['population'].mean()\n",
    "std = housing['population'].std()\n",
    "\n",
    "lower = mean - std * 1.5\n",
    "upper = mean + std * 1.5\n",
    "\n",
    "outlier = housing[ (housing['population'] < lower) | (housing['population'] > upper)]\n",
    "print(outlier['population'].sum())"
   ]
  },
  {
   "cell_type": "markdown",
   "id": "11f742bc",
   "metadata": {},
   "source": [
    "3. 작업형 제2유형"
   ]
  },
  {
   "cell_type": "markdown",
   "id": "5b15203c",
   "metadata": {},
   "source": [
    "다음은 E-commerce Shipping 데이터 세트이다. 주어진 훈련 데이터 세트를 활용하여 고객이 주문한 물품의 정시 도착 여부를 예측하고 해당 예측 결과를 csv 파일로 제출하시오."
   ]
  },
  {
   "cell_type": "code",
   "execution_count": 32,
   "id": "2147cb8b",
   "metadata": {},
   "outputs": [
    {
     "name": "stdout",
     "output_type": "stream",
     "text": [
      "   ID Warehouse_block Mode_of_Shipment  Customer_care_calls  Customer_rating  \\\n",
      "0   1               D           Flight                    4                2   \n",
      "1   2               F           Flight                    4                5   \n",
      "2   3               A           Flight                    2                2   \n",
      "3   4               B           Flight                    3                3   \n",
      "4   5               C           Flight                    2                2   \n",
      "5   6               F           Flight                    3                1   \n",
      "6   7               D           Flight                    3                4   \n",
      "7   8               F           Flight                    4                1   \n",
      "8   9               A           Flight                    3                4   \n",
      "9  10               B           Flight                    3                2   \n",
      "\n",
      "   Cost_of_the_Product  Prior_purchases Product_importance Gender  \\\n",
      "0                  177                3                low      F   \n",
      "1                  216                2                low      M   \n",
      "2                  183                4                low      M   \n",
      "3                  176                4             medium      M   \n",
      "4                  184                3             medium      F   \n",
      "5                  162                3             medium      F   \n",
      "6                  250                3                low      F   \n",
      "7                  233                2                low      F   \n",
      "8                  150                3                low      F   \n",
      "9                  164                3             medium      F   \n",
      "\n",
      "   Discount_offered  Weight_in_gms  Reached.on.Time_Y.N  \n",
      "0                44           1233                    1  \n",
      "1                59           3088                    1  \n",
      "2                48           3374                    1  \n",
      "3                10           1177                    1  \n",
      "4                46           2484                    1  \n",
      "5                12           1417                    1  \n",
      "6                 3           2371                    1  \n",
      "7                48           2804                    1  \n",
      "8                11           1861                    1  \n",
      "9                29           1187                    1  \n"
     ]
    }
   ],
   "source": [
    "import pandas as pd\n",
    "\n",
    "df = pd.read_csv(\"./yemoonsaBigdata/datasets/Part3/204_ecommerce.csv\")\n",
    "print(df.head(10))"
   ]
  },
  {
   "cell_type": "code",
   "execution_count": 35,
   "id": "77813b2a",
   "metadata": {},
   "outputs": [
    {
     "name": "stdout",
     "output_type": "stream",
     "text": [
      "(7699, 11) (3300, 11) (7699, 2)\n"
     ]
    }
   ],
   "source": [
    "from sklearn.model_selection import train_test_split\n",
    "\n",
    "x_train, x_test = train_test_split(df, test_size=0.3, stratify=df['Reached.on.Time_Y.N'])\n",
    "\n",
    "y_train = x_train[['ID','Reached.on.Time_Y.N']]\n",
    "x_train = x_train.drop(columns='Reached.on.Time_Y.N')\n",
    "\n",
    "y_test = x_test[['ID', 'Reached.on.Time_Y.N']]\n",
    "x_test = x_test.drop(columns='Reached.on.Time_Y.N')\n",
    "\n",
    "x_train.to_csv('./yemoonsaBigdata/datasets/Part3/204_x_train.csv', index=False)\n",
    "x_test.to_csv('./yemoonsaBigdata/datasets/Part3/204_x_test.csv', index=False)\n",
    "y_train.to_csv('./yemoonsaBigdata/datasets/Part3/204_y_train.csv', index=False)\n",
    "\n",
    "x_train = pd.read_csv('./yemoonsaBigdata/datasets/Part3/204_x_train.csv')\n",
    "x_test = pd.read_csv('./yemoonsaBigdata/datasets/Part3/204_x_test.csv')\n",
    "y_train = pd.read_csv('./yemoonsaBigdata/datasets/Part3/204_y_train.csv')\n",
    "\n",
    "print(x_train.shape, x_test.shape, y_train.shape)"
   ]
  },
  {
   "cell_type": "code",
   "execution_count": 36,
   "id": "2d713774",
   "metadata": {},
   "outputs": [
    {
     "name": "stdout",
     "output_type": "stream",
     "text": [
      "<class 'pandas.core.frame.DataFrame'>\n",
      "Int64Index: 10999 entries, 0 to 3299\n",
      "Data columns (total 11 columns):\n",
      " #   Column               Non-Null Count  Dtype \n",
      "---  ------               --------------  ----- \n",
      " 0   ID                   10999 non-null  int64 \n",
      " 1   Warehouse_block      10999 non-null  object\n",
      " 2   Mode_of_Shipment     10999 non-null  object\n",
      " 3   Customer_care_calls  10999 non-null  int64 \n",
      " 4   Customer_rating      10999 non-null  int64 \n",
      " 5   Cost_of_the_Product  10999 non-null  int64 \n",
      " 6   Prior_purchases      10999 non-null  int64 \n",
      " 7   Product_importance   10999 non-null  object\n",
      " 8   Gender               10999 non-null  object\n",
      " 9   Discount_offered     10999 non-null  int64 \n",
      " 10  Weight_in_gms        10999 non-null  int64 \n",
      "dtypes: int64(7), object(4)\n",
      "memory usage: 1.0+ MB\n",
      "None\n"
     ]
    }
   ],
   "source": [
    "df_x = pd.concat([x_train, x_test])\n",
    "print(df_x.info())"
   ]
  },
  {
   "cell_type": "code",
   "execution_count": 42,
   "id": "bff303cc",
   "metadata": {},
   "outputs": [
    {
     "name": "stdout",
     "output_type": "stream",
     "text": [
      "<class 'pandas.core.frame.DataFrame'>\n",
      "Int64Index: 10999 entries, 0 to 3299\n",
      "Data columns (total 11 columns):\n",
      " #   Column               Non-Null Count  Dtype\n",
      "---  ------               --------------  -----\n",
      " 0   ID                   10999 non-null  int64\n",
      " 1   Warehouse_block      10999 non-null  int64\n",
      " 2   Mode_of_Shipment     10999 non-null  int64\n",
      " 3   Customer_care_calls  10999 non-null  int64\n",
      " 4   Customer_rating      10999 non-null  int64\n",
      " 5   Cost_of_the_Product  10999 non-null  int64\n",
      " 6   Prior_purchases      10999 non-null  int64\n",
      " 7   Product_importance   10999 non-null  int64\n",
      " 8   Gender               10999 non-null  int64\n",
      " 9   Discount_offered     10999 non-null  int64\n",
      " 10  Weight_in_gms        10999 non-null  int64\n",
      "dtypes: int64(11)\n",
      "memory usage: 1.0 MB\n",
      "None\n"
     ]
    }
   ],
   "source": [
    "df_le = df_x.copy()\n",
    "\n",
    "df_le['Gender'] = df_x['Gender'].replace(['F','M'], [0,1])\n",
    "df_le['Product_importance'] = df_x['Product_importance'].replace(['low','medium','high'], [0,1,2])\n",
    "df_le['Mode_of_Shipment'] = df_x['Mode_of_Shipment'].replace(['Ship', 'Road', 'Flight'],[0,1,2])\n",
    "df_le['Warehouse_block'] = df_x['Warehouse_block'].replace(['A','B','C','D','F'],[0,1,2,3,4])\n",
    "\n",
    "print(df_le.info())"
   ]
  },
  {
   "cell_type": "code",
   "execution_count": 43,
   "id": "96ae2ca2",
   "metadata": {},
   "outputs": [],
   "source": [
    "from sklearn.metrics import roc_auc_score\n",
    "\n",
    "def get_scores(model, xtrain, xtest, ytrain, ytest):\n",
    "    A = model.score(xtrain, ytrain)\n",
    "    ypred = model.predict_proba(xtest)[:,1]\n",
    "    B = roc_auc_score(ytest, ypred)\n",
    "    return '{:.4f} {:.4f}'.format(A,B)"
   ]
  },
  {
   "cell_type": "code",
   "execution_count": 52,
   "id": "f8f3950a",
   "metadata": {},
   "outputs": [],
   "source": [
    "from sklearn.linear_model import LogisticRegression\n",
    "from sklearn.tree import DecisionTreeClassifier\n",
    "from sklearn.ensemble import RandomForestClassifier\n",
    "from xgboost import XGBClassifier\n",
    "\n",
    "def make_models(xtrain, xtest, ytrain, ytest):\n",
    "    model1 = LogisticRegression().fit(xtrain, ytrain)\n",
    "    print('model1', get_scores(model1, xtrain, xtest, ytrain, ytest))\n",
    "\n",
    "    model2 = DecisionTreeClassifier(random_state=0).fit(xtrain, ytrain)\n",
    "    print('model2', get_scores(model2, xtrain, xtest, ytrain, ytest))\n",
    "\n",
    "    for d in range(3, 8):\n",
    "        model2 = DecisionTreeClassifier(max_depth=d,random_state=0).fit(xtrain, ytrain)\n",
    "        print('model2', d, get_scores(model2, xtrain, xtest, ytrain, ytest))\n",
    "\n",
    "    model3 = RandomForestClassifier(random_state=0).fit(xtrain, ytrain)\n",
    "    print('model3', get_scores(model3, xtrain, xtest, ytrain, ytest))\n",
    "\n",
    "    for d in range(3, 8):\n",
    "        model3 = RandomForestClassifier(500, max_depth=d, random_state=0).fit(xtrain, ytrain)\n",
    "        print('model3', d, get_scores(model3, xtrain, xtest, ytrain, ytest))\n",
    "\n",
    "    model4 = XGBClassifier().fit(xtrain, ytrain)\n",
    "    print('model4', get_scores(model4, xtrain, xtest, ytrain, ytest))"
   ]
  },
  {
   "cell_type": "code",
   "execution_count": 53,
   "id": "dcb511db",
   "metadata": {},
   "outputs": [
    {
     "name": "stdout",
     "output_type": "stream",
     "text": [
      "<class 'numpy.ndarray'> <class 'numpy.ndarray'> <class 'pandas.core.series.Series'>\n",
      "(7699, 10) (3300, 10) (7699,)\n"
     ]
    }
   ],
   "source": [
    "from sklearn.preprocessing import StandardScaler\n",
    "\n",
    "x_le = df_le.drop(columns=['ID'])\n",
    "\n",
    "x_le_train = x_le[:7699]\n",
    "x_le_test = x_le[7699:]\n",
    "\n",
    "scaler = StandardScaler()\n",
    "scaler.fit(x_le_train)\n",
    "x_fin_train = scaler.transform(x_le_train)\n",
    "x_fin_test = scaler.transform(x_le_test)\n",
    "\n",
    "y_fin_train = y_train['Reached.on.Time_Y.N']\n",
    "\n",
    "print(type(x_fin_train), type(x_fin_test), type(y_fin_train))\n",
    "print(x_fin_train.shape, x_fin_test.shape, y_fin_train.shape)"
   ]
  },
  {
   "cell_type": "code",
   "execution_count": 54,
   "id": "8c47b51d",
   "metadata": {},
   "outputs": [
    {
     "name": "stdout",
     "output_type": "stream",
     "text": [
      "(5389, 10) (2310, 10) (5389,) (2310,)\n"
     ]
    }
   ],
   "source": [
    "from sklearn.model_selection import train_test_split\n",
    "\n",
    "xtrain, xtest, ytrain, ytest = train_test_split(x_fin_train, y_fin_train, test_size=0.3,\n",
    "                                               stratify = y_fin_train)\n",
    "print(xtrain.shape, xtest.shape, ytrain.shape, ytest.shape)"
   ]
  },
  {
   "cell_type": "code",
   "execution_count": 55,
   "id": "25b12451",
   "metadata": {},
   "outputs": [
    {
     "name": "stdout",
     "output_type": "stream",
     "text": [
      "model1 0.6419 0.7139\n",
      "model2 1.0000 0.6309\n",
      "model2 3 0.6799 0.7404\n",
      "model2 4 0.6875 0.7436\n",
      "model2 5 0.6920 0.7429\n",
      "model2 6 0.6959 0.7449\n",
      "model2 7 0.7059 0.7384\n",
      "model3 1.0000 0.7347\n",
      "model3 3 0.6792 0.7486\n",
      "model3 4 0.6953 0.7471\n",
      "model3 5 0.7105 0.7461\n",
      "model3 6 0.7204 0.7466\n",
      "model3 7 0.7434 0.7448\n",
      "model4 0.9499 0.7264\n"
     ]
    }
   ],
   "source": [
    "make_models(xtrain, xtest, ytrain, ytest)"
   ]
  },
  {
   "cell_type": "code",
   "execution_count": 56,
   "id": "78d550d7",
   "metadata": {},
   "outputs": [
    {
     "name": "stdout",
     "output_type": "stream",
     "text": [
      "final model : 0.6799 0.7404\n"
     ]
    }
   ],
   "source": [
    "final_model = DecisionTreeClassifier(max_depth=3).fit(xtrain,ytrain)\n",
    "print('final model :',get_scores(final_model,xtrain, xtest, ytrain, ytest))"
   ]
  },
  {
   "cell_type": "code",
   "execution_count": 57,
   "id": "d9b05111",
   "metadata": {},
   "outputs": [],
   "source": [
    "y_pred = final_model.predict_proba(x_fin_test)[:,1]\n",
    "\n",
    "result = pd.DataFrame({'y_pred' : y_pred})\n",
    "result.to_csv('./yemoonsaBigdata/res/ecommerce_y_pred.csv')"
   ]
  },
  {
   "cell_type": "code",
   "execution_count": null,
   "id": "c314b8f3",
   "metadata": {},
   "outputs": [],
   "source": []
  }
 ],
 "metadata": {
  "kernelspec": {
   "display_name": "Python 3 (ipykernel)",
   "language": "python",
   "name": "python3"
  },
  "language_info": {
   "codemirror_mode": {
    "name": "ipython",
    "version": 3
   },
   "file_extension": ".py",
   "mimetype": "text/x-python",
   "name": "python",
   "nbconvert_exporter": "python",
   "pygments_lexer": "ipython3",
   "version": "3.9.7"
  }
 },
 "nbformat": 4,
 "nbformat_minor": 5
}
