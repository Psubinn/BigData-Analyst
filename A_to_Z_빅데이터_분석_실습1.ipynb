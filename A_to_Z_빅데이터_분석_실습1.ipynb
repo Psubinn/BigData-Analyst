{
  "nbformat": 4,
  "nbformat_minor": 0,
  "metadata": {
    "colab": {
      "name": "A to Z 빅데이터 분석 실습1.ipynb",
      "provenance": [],
      "collapsed_sections": [],
      "authorship_tag": "ABX9TyOtG57E2kJylRC3HfHZp2kk",
      "include_colab_link": true
    },
    "kernelspec": {
      "name": "python3",
      "display_name": "Python 3"
    },
    "language_info": {
      "name": "python"
    },
    "accelerator": "GPU"
  },
  "cells": [
    {
      "cell_type": "markdown",
      "metadata": {
        "id": "view-in-github",
        "colab_type": "text"
      },
      "source": [
        "<a href=\"https://colab.research.google.com/github/Psubinn/BigData-Analyst/blob/main/A_to_Z_%EB%B9%85%EB%8D%B0%EC%9D%B4%ED%84%B0_%EB%B6%84%EC%84%9D_%EC%8B%A4%EC%8A%B51.ipynb\" target=\"_parent\"><img src=\"https://colab.research.google.com/assets/colab-badge.svg\" alt=\"Open In Colab\"/></a>"
      ]
    },
    {
      "cell_type": "code",
      "execution_count": 1,
      "metadata": {
        "colab": {
          "base_uri": "https://localhost:8080/"
        },
        "id": "0yf-hv_YMvoO",
        "outputId": "a1647df4-5bc6-4a08-b2ec-70bb895d619e"
      },
      "outputs": [
        {
          "output_type": "stream",
          "name": "stdout",
          "text": [
            "fatal: destination path 'yemoonsaBigdata' already exists and is not an empty directory.\n"
          ]
        }
      ],
      "source": [
        "!git clone https://github.com/AnalyticsKnight/yemoonsaBigdata"
      ]
    },
    {
      "cell_type": "markdown",
      "source": [
        "1. 실습 A to Z : Motor Trend Car Road Tests"
      ],
      "metadata": {
        "id": "gBt8bDWoNPEG"
      }
    },
    {
      "cell_type": "markdown",
      "source": [
        "(1) 사전 준비"
      ],
      "metadata": {
        "id": "xvt0f3n0eKOz"
      }
    },
    {
      "cell_type": "code",
      "source": [
        "import pandas as pd\n",
        "import numpy as np\n",
        "\n",
        "X_test = pd.read_csv(\"./yemoonsaBigdata/datasets/Part2/mpg_X_test.csv\")\n",
        "X_train = pd.read_csv(\"./yemoonsaBigdata/datasets/Part2/mpg_X_train.csv\")\n",
        "y_train = pd.read_csv(\"./yemoonsaBigdata/datasets/Part2/mpg_y_train.csv\")"
      ],
      "metadata": {
        "id": "vRPnYBqxM6SF"
      },
      "execution_count": 2,
      "outputs": []
    },
    {
      "cell_type": "markdown",
      "source": [
        "(2) 데이터 전처리"
      ],
      "metadata": {
        "id": "xDH7pfE5ePLK"
      }
    },
    {
      "cell_type": "code",
      "source": [
        "print(X_train.info())"
      ],
      "metadata": {
        "colab": {
          "base_uri": "https://localhost:8080/"
        },
        "id": "ieA-cM9OWm8s",
        "outputId": "c9cd95cd-d4ee-417f-a383-b99da545e1ac"
      },
      "execution_count": 3,
      "outputs": [
        {
          "output_type": "stream",
          "name": "stdout",
          "text": [
            "<class 'pandas.core.frame.DataFrame'>\n",
            "RangeIndex: 278 entries, 0 to 277\n",
            "Data columns (total 8 columns):\n",
            " #   Column        Non-Null Count  Dtype  \n",
            "---  ------        --------------  -----  \n",
            " 0   name          278 non-null    object \n",
            " 1   mpg           278 non-null    float64\n",
            " 2   cylinders     278 non-null    int64  \n",
            " 3   displacement  278 non-null    float64\n",
            " 4   horsepower    274 non-null    float64\n",
            " 5   weight        278 non-null    int64  \n",
            " 6   acceleration  278 non-null    float64\n",
            " 7   model_year    278 non-null    int64  \n",
            "dtypes: float64(4), int64(3), object(1)\n",
            "memory usage: 17.5+ KB\n",
            "None\n"
          ]
        }
      ]
    },
    {
      "cell_type": "code",
      "source": [
        "from sklearn.impute import SimpleImputer\n",
        "\n",
        "imputer = SimpleImputer(missing_values=np.nan, strategy='mean')\n",
        "X_train[['horsepower']] = imputer.fit_transform(X_train[['horsepower']])\n",
        "X_test[['horsepower']] = imputer.fit_transform(X_test[['horsepower']])"
      ],
      "metadata": {
        "id": "BfQF9g8iamre"
      },
      "execution_count": 4,
      "outputs": []
    },
    {
      "cell_type": "code",
      "source": [
        "print(X_train.describe())"
      ],
      "metadata": {
        "colab": {
          "base_uri": "https://localhost:8080/"
        },
        "id": "bA3Px9RRbUzb",
        "outputId": "d35bf486-40d4-4a94-a2fa-0d6ba8ac54a6"
      },
      "execution_count": 5,
      "outputs": [
        {
          "output_type": "stream",
          "name": "stdout",
          "text": [
            "              mpg   cylinders  displacement  horsepower       weight  \\\n",
            "count  278.000000  278.000000    278.000000  278.000000   278.000000   \n",
            "mean    23.732734    5.374101    189.994604  103.383212  2948.464029   \n",
            "std      7.647295    1.677084    105.471423   38.695458   862.949746   \n",
            "min     10.000000    3.000000     68.000000   46.000000  1613.000000   \n",
            "25%     18.000000    4.000000     98.000000   75.000000  2206.250000   \n",
            "50%     23.000000    4.000000    140.500000   90.500000  2737.500000   \n",
            "75%     29.000000    6.000000    258.000000  118.750000  3560.000000   \n",
            "max     46.600000    8.000000    455.000000  230.000000  5140.000000   \n",
            "\n",
            "       acceleration  model_year  \n",
            "count    278.000000  278.000000  \n",
            "mean      15.580216   76.057554  \n",
            "std        2.745907    3.605591  \n",
            "min        8.000000   70.000000  \n",
            "25%       14.000000   73.000000  \n",
            "50%       15.500000   76.000000  \n",
            "75%       17.000000   79.000000  \n",
            "max       24.800000   82.000000  \n"
          ]
        }
      ]
    },
    {
      "cell_type": "code",
      "source": [
        "COL_DEL = ['name']\n",
        "COL_NUM = ['mpg','cylinders','displacement','horsepower','weight','acceleration','model_year']\n",
        "COL_CAT = []\n",
        "COL_Y = ['isUSA']\n",
        "\n",
        "X_train = X_train.iloc[ : , 1 : ]\n",
        "X_test = X_test.iloc[ : , 1 : ]"
      ],
      "metadata": {
        "id": "KsE5LgrLbgu9"
      },
      "execution_count": 6,
      "outputs": []
    },
    {
      "cell_type": "markdown",
      "source": [
        "(3) 데이터 모형 구축"
      ],
      "metadata": {
        "id": "k64bUxK3eTkD"
      }
    },
    {
      "cell_type": "code",
      "source": [
        "from sklearn.model_selection import train_test_split\n",
        "\n",
        "X_tr, X_val, y_tr ,y_val = train_test_split(X_train, y_train, test_size=0.3)"
      ],
      "metadata": {
        "id": "SqOAEjD6cQIP"
      },
      "execution_count": 7,
      "outputs": []
    },
    {
      "cell_type": "code",
      "source": [
        "# 스케일링\n",
        "\n",
        "from sklearn.preprocessing import StandardScaler\n",
        "\n",
        "scaler = StandardScaler()\n",
        "scaler.fit(X_tr[COL_NUM])\n",
        "X_tr[COL_NUM] = scaler.transform(X_tr[COL_NUM])\n",
        "X_val[COL_NUM] = scaler.transform(X_val[COL_NUM])\n",
        "X_test[COL_NUM] = scaler.transform(X_test[COL_NUM])"
      ],
      "metadata": {
        "id": "kuAPU8j1c1Pw"
      },
      "execution_count": 8,
      "outputs": []
    },
    {
      "cell_type": "code",
      "source": [
        "from sklearn.neighbors import KNeighborsClassifier\n",
        "modelKNN = KNeighborsClassifier(n_neighbors=5, metric='euclidean')\n",
        "modelKNN.fit(X_tr, y_tr.values.ravel())\n",
        "\n",
        "from sklearn.tree import DecisionTreeClassifier\n",
        "modelDT = DecisionTreeClassifier(max_depth=10)\n",
        "modelDT.fit(X_tr,y_tr)"
      ],
      "metadata": {
        "colab": {
          "base_uri": "https://localhost:8080/"
        },
        "id": "AhqjDvyjfOlF",
        "outputId": "17a21ba7-9806-4638-d4a2-101a8777dbb6"
      },
      "execution_count": 9,
      "outputs": [
        {
          "output_type": "execute_result",
          "data": {
            "text/plain": [
              "DecisionTreeClassifier(max_depth=10)"
            ]
          },
          "metadata": {},
          "execution_count": 9
        }
      ]
    },
    {
      "cell_type": "markdown",
      "source": [
        "(4) 데이터 모형 평가"
      ],
      "metadata": {
        "id": "OMFRZG68oRaU"
      }
    },
    {
      "cell_type": "code",
      "source": [
        "y_val_pred = modelKNN.predict(X_val)\n",
        "\n",
        "y_val_pred_probaKNN = modelKNN.predict_proba(X_val)\n",
        "y_val_pred_probaDT = modelDT.predict_proba(X_val)"
      ],
      "metadata": {
        "id": "Hs1kbhJOhN3K"
      },
      "execution_count": 10,
      "outputs": []
    },
    {
      "cell_type": "code",
      "source": [
        "from sklearn.metrics import roc_auc_score\n",
        "\n",
        "scoreKNN = roc_auc_score(y_val,y_val_pred_probaKNN[:,1])\n",
        "scoreDT = roc_auc_score(y_val, y_val_pred_probaDT[:,1])\n",
        "\n",
        "print(scoreKNN, scoreDT)"
      ],
      "metadata": {
        "colab": {
          "base_uri": "https://localhost:8080/"
        },
        "id": "dGv9hWIpps6e",
        "outputId": "fad25d26-822e-4fdd-9d27-9d5cd2e6bd98"
      },
      "execution_count": 11,
      "outputs": [
        {
          "output_type": "stream",
          "name": "stdout",
          "text": [
            "0.8876201923076923 0.8665865384615384\n"
          ]
        }
      ]
    },
    {
      "cell_type": "code",
      "source": [
        "# 직접 여러 하이퍼파라미터를 학습하는 모형\n",
        "\n",
        "best_model = None\n",
        "best_score = 0\n",
        "\n",
        "for i in range(2,10):\n",
        "  model = KNeighborsClassifier(n_neighbors=i, metric='euclidean')\n",
        "  model.fit(X_tr, y_tr.values.ravel())\n",
        "  y_val_pred_proba = model.predict_proba(X_val)\n",
        "  score = roc_auc_score(y_val, y_val_pred_proba[:,1])\n",
        "  print(i,'개의 이웃 확인 : ', score)\n",
        "  if best_score <= score:\n",
        "    best_model = model"
      ],
      "metadata": {
        "colab": {
          "base_uri": "https://localhost:8080/"
        },
        "id": "E0MqjJ18qHWO",
        "outputId": "aeeeac07-5a40-4a99-a6d9-64574348069e"
      },
      "execution_count": 12,
      "outputs": [
        {
          "output_type": "stream",
          "name": "stdout",
          "text": [
            "2 개의 이웃 확인 :  0.82421875\n",
            "3 개의 이웃 확인 :  0.8341346153846154\n",
            "4 개의 이웃 확인 :  0.8783052884615384\n",
            "5 개의 이웃 확인 :  0.8876201923076923\n",
            "6 개의 이웃 확인 :  0.8870192307692308\n",
            "7 개의 이웃 확인 :  0.8846153846153847\n",
            "8 개의 이웃 확인 :  0.8858173076923076\n",
            "9 개의 이웃 확인 :  0.8834134615384616\n"
          ]
        }
      ]
    },
    {
      "cell_type": "code",
      "source": [
        "print(best_model.predict_proba(X_test))"
      ],
      "metadata": {
        "colab": {
          "base_uri": "https://localhost:8080/"
        },
        "id": "Zm2SXvUotuh8",
        "outputId": "74b0fbcd-ed96-4d55-a7ee-6b642c0c8496"
      },
      "execution_count": 13,
      "outputs": [
        {
          "output_type": "stream",
          "name": "stdout",
          "text": [
            "[[0.77777778 0.22222222]\n",
            " [0.22222222 0.77777778]\n",
            " [0.         1.        ]\n",
            " [0.         1.        ]\n",
            " [0.77777778 0.22222222]\n",
            " [0.66666667 0.33333333]\n",
            " [0.66666667 0.33333333]\n",
            " [0.66666667 0.33333333]\n",
            " [0.66666667 0.33333333]\n",
            " [0.55555556 0.44444444]\n",
            " [0.         1.        ]\n",
            " [0.55555556 0.44444444]\n",
            " [0.         1.        ]\n",
            " [0.44444444 0.55555556]\n",
            " [0.66666667 0.33333333]\n",
            " [0.88888889 0.11111111]\n",
            " [0.         1.        ]\n",
            " [0.         1.        ]\n",
            " [0.77777778 0.22222222]\n",
            " [0.         1.        ]\n",
            " [0.         1.        ]\n",
            " [0.         1.        ]\n",
            " [0.         1.        ]\n",
            " [0.         1.        ]\n",
            " [0.         1.        ]\n",
            " [0.55555556 0.44444444]\n",
            " [0.77777778 0.22222222]\n",
            " [0.         1.        ]\n",
            " [0.         1.        ]\n",
            " [0.44444444 0.55555556]\n",
            " [0.88888889 0.11111111]\n",
            " [0.77777778 0.22222222]\n",
            " [0.66666667 0.33333333]\n",
            " [0.22222222 0.77777778]\n",
            " [0.         1.        ]\n",
            " [0.44444444 0.55555556]\n",
            " [0.55555556 0.44444444]\n",
            " [0.         1.        ]\n",
            " [0.88888889 0.11111111]\n",
            " [0.33333333 0.66666667]\n",
            " [0.         1.        ]\n",
            " [0.88888889 0.11111111]\n",
            " [0.88888889 0.11111111]\n",
            " [0.44444444 0.55555556]\n",
            " [0.77777778 0.22222222]\n",
            " [0.77777778 0.22222222]\n",
            " [0.55555556 0.44444444]\n",
            " [0.         1.        ]\n",
            " [0.77777778 0.22222222]\n",
            " [0.         1.        ]\n",
            " [1.         0.        ]\n",
            " [0.77777778 0.22222222]\n",
            " [0.         1.        ]\n",
            " [0.77777778 0.22222222]\n",
            " [0.         1.        ]\n",
            " [0.         1.        ]\n",
            " [0.         1.        ]\n",
            " [0.11111111 0.88888889]\n",
            " [0.         1.        ]\n",
            " [0.77777778 0.22222222]\n",
            " [0.11111111 0.88888889]\n",
            " [0.22222222 0.77777778]\n",
            " [0.         1.        ]\n",
            " [0.         1.        ]\n",
            " [0.22222222 0.77777778]\n",
            " [0.         1.        ]\n",
            " [0.         1.        ]\n",
            " [0.55555556 0.44444444]\n",
            " [0.22222222 0.77777778]\n",
            " [0.88888889 0.11111111]\n",
            " [0.11111111 0.88888889]\n",
            " [0.         1.        ]\n",
            " [0.66666667 0.33333333]\n",
            " [1.         0.        ]\n",
            " [0.         1.        ]\n",
            " [0.88888889 0.11111111]\n",
            " [0.         1.        ]\n",
            " [0.66666667 0.33333333]\n",
            " [0.55555556 0.44444444]\n",
            " [0.         1.        ]\n",
            " [0.11111111 0.88888889]\n",
            " [0.         1.        ]\n",
            " [0.77777778 0.22222222]\n",
            " [0.         1.        ]\n",
            " [0.         1.        ]\n",
            " [0.11111111 0.88888889]\n",
            " [0.77777778 0.22222222]\n",
            " [0.88888889 0.11111111]\n",
            " [0.66666667 0.33333333]\n",
            " [0.         1.        ]\n",
            " [0.         1.        ]\n",
            " [0.         1.        ]\n",
            " [0.         1.        ]\n",
            " [0.         1.        ]\n",
            " [0.         1.        ]\n",
            " [0.11111111 0.88888889]\n",
            " [0.88888889 0.11111111]\n",
            " [0.         1.        ]\n",
            " [0.         1.        ]\n",
            " [0.         1.        ]\n",
            " [0.         1.        ]\n",
            " [0.         1.        ]\n",
            " [0.         1.        ]\n",
            " [0.         1.        ]\n",
            " [0.         1.        ]\n",
            " [0.77777778 0.22222222]\n",
            " [0.55555556 0.44444444]\n",
            " [0.44444444 0.55555556]\n",
            " [0.77777778 0.22222222]\n",
            " [0.         1.        ]\n",
            " [0.77777778 0.22222222]\n",
            " [0.11111111 0.88888889]\n",
            " [0.77777778 0.22222222]\n",
            " [0.         1.        ]\n",
            " [0.         1.        ]\n",
            " [1.         0.        ]\n",
            " [0.         1.        ]\n",
            " [0.11111111 0.88888889]\n",
            " [0.         1.        ]\n",
            " [1.         0.        ]]\n"
          ]
        }
      ]
    },
    {
      "cell_type": "markdown",
      "source": [
        "- 미국에 해당하는 경우가 1이므로, 두 번째 줄에 해당하는 것을 추출한다. ( [ : , 1 ] )"
      ],
      "metadata": {
        "id": "BM07EyovwLLr"
      }
    },
    {
      "cell_type": "code",
      "source": [
        "pred = best_model.predict_proba(X_test)[:,1]\n",
        "print(pred)"
      ],
      "metadata": {
        "colab": {
          "base_uri": "https://localhost:8080/"
        },
        "id": "2hCuKU1QwHT4",
        "outputId": "856f206a-5c7e-4663-8c40-0b3c4b80afdd"
      },
      "execution_count": 14,
      "outputs": [
        {
          "output_type": "stream",
          "name": "stdout",
          "text": [
            "[0.22222222 0.77777778 1.         1.         0.22222222 0.33333333\n",
            " 0.33333333 0.33333333 0.33333333 0.44444444 1.         0.44444444\n",
            " 1.         0.55555556 0.33333333 0.11111111 1.         1.\n",
            " 0.22222222 1.         1.         1.         1.         1.\n",
            " 1.         0.44444444 0.22222222 1.         1.         0.55555556\n",
            " 0.11111111 0.22222222 0.33333333 0.77777778 1.         0.55555556\n",
            " 0.44444444 1.         0.11111111 0.66666667 1.         0.11111111\n",
            " 0.11111111 0.55555556 0.22222222 0.22222222 0.44444444 1.\n",
            " 0.22222222 1.         0.         0.22222222 1.         0.22222222\n",
            " 1.         1.         1.         0.88888889 1.         0.22222222\n",
            " 0.88888889 0.77777778 1.         1.         0.77777778 1.\n",
            " 1.         0.44444444 0.77777778 0.11111111 0.88888889 1.\n",
            " 0.33333333 0.         1.         0.11111111 1.         0.33333333\n",
            " 0.44444444 1.         0.88888889 1.         0.22222222 1.\n",
            " 1.         0.88888889 0.22222222 0.11111111 0.33333333 1.\n",
            " 1.         1.         1.         1.         1.         0.88888889\n",
            " 0.11111111 1.         1.         1.         1.         1.\n",
            " 1.         1.         1.         0.22222222 0.44444444 0.55555556\n",
            " 0.22222222 1.         0.22222222 0.88888889 0.22222222 1.\n",
            " 1.         0.         1.         0.88888889 1.         0.        ]\n"
          ]
        }
      ]
    },
    {
      "cell_type": "code",
      "source": [
        "pd.DataFrame({'isUSA' : pred}).to_csv('./yemoonsaBigdata/res/003000000.csv', index=False)"
      ],
      "metadata": {
        "id": "FOLXam6XweOk"
      },
      "execution_count": 15,
      "outputs": []
    },
    {
      "cell_type": "code",
      "source": [
        ""
      ],
      "metadata": {
        "id": "M7u6U_0gwwm8"
      },
      "execution_count": null,
      "outputs": []
    }
  ]
}