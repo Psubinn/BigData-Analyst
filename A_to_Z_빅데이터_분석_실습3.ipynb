{
  "cells": [
    {
      "cell_type": "markdown",
      "metadata": {
        "id": "view-in-github",
        "colab_type": "text"
      },
      "source": [
        "<a href=\"https://colab.research.google.com/github/Psubinn/BigData-Analyst/blob/main/A_to_Z_%EB%B9%85%EB%8D%B0%EC%9D%B4%ED%84%B0_%EB%B6%84%EC%84%9D_%EC%8B%A4%EC%8A%B53.ipynb\" target=\"_parent\"><img src=\"https://colab.research.google.com/assets/colab-badge.svg\" alt=\"Open In Colab\"/></a>"
      ]
    },
    {
      "cell_type": "markdown",
      "metadata": {
        "id": "gSZ1HUxoJBZS"
      },
      "source": [
        "# **Chapter 4. A to Z 빅데이터 분석 실습**"
      ]
    },
    {
      "cell_type": "markdown",
      "metadata": {
        "id": "bggmCRYJJYLF"
      },
      "source": [
        "## 3. 실습 A to Z - Census Income "
      ]
    },
    {
      "cell_type": "code",
      "execution_count": null,
      "metadata": {
        "colab": {
          "base_uri": "https://localhost:8080/"
        },
        "id": "-cTIwT2QSJFy",
        "outputId": "c19ab458-89f2-4a61-991d-408b9a79d2d1"
      },
      "outputs": [
        {
          "name": "stdout",
          "output_type": "stream",
          "text": [
            "Cloning into 'yemoonsaBigdata'...\n",
            "remote: Enumerating objects: 471, done.\u001b[K\n",
            "remote: Counting objects: 100% (108/108), done.\u001b[K\n",
            "remote: Compressing objects: 100% (65/65), done.\u001b[K\n",
            "remote: Total 471 (delta 63), reused 43 (delta 43), pack-reused 363\u001b[K\n",
            "Receiving objects: 100% (471/471), 8.55 MiB | 7.60 MiB/s, done.\n",
            "Resolving deltas: 100% (248/248), done.\n"
          ]
        }
      ],
      "source": [
        "!git clone https://github.com/AnalyticsKnight/yemoonsaBigdata/"
      ]
    },
    {
      "cell_type": "markdown",
      "metadata": {
        "id": "de2QO4OKJlRa"
      },
      "source": [
        "### (2) 사전준비"
      ]
    },
    {
      "cell_type": "markdown",
      "metadata": {
        "id": "LWrvdMc5KJJn"
      },
      "source": [
        "#### 432-01"
      ]
    },
    {
      "cell_type": "code",
      "execution_count": null,
      "metadata": {
        "id": "DC1aQjh5KbiL"
      },
      "outputs": [],
      "source": [
        "import pandas as pd\n",
        "import numpy as np"
      ]
    },
    {
      "cell_type": "markdown",
      "metadata": {
        "id": "Jn9ghrqwKg_6"
      },
      "source": [
        "#### 432-02"
      ]
    },
    {
      "cell_type": "code",
      "execution_count": null,
      "metadata": {
        "id": "cQ-mgBAVKeVq"
      },
      "outputs": [],
      "source": [
        "X_test = pd.read_csv(\"./yemoonsaBigdata/datasets/Part2/census_X_test.csv\")\n",
        "X_train = pd.read_csv(\"./yemoonsaBigdata/datasets/Part2/census_X_train.csv\")\n",
        "y_train = pd.read_csv(\"./yemoonsaBigdata/datasets/Part2/census_y_train.csv\")"
      ]
    },
    {
      "cell_type": "markdown",
      "metadata": {
        "id": "p8x1_D0yK990"
      },
      "source": [
        "### (3) 데이터 전처리"
      ]
    },
    {
      "cell_type": "markdown",
      "metadata": {
        "id": "5OwqboGFLBZC"
      },
      "source": [
        "#### 433-01"
      ]
    },
    {
      "cell_type": "code",
      "execution_count": null,
      "metadata": {
        "colab": {
          "base_uri": "https://localhost:8080/"
        },
        "id": "80pxps2gLGZ-",
        "outputId": "6b9e3a7b-50a2-47b4-d477-1920a19170c3"
      },
      "outputs": [
        {
          "name": "stdout",
          "output_type": "stream",
          "text": [
            "<class 'pandas.core.frame.DataFrame'>\n",
            "RangeIndex: 30162 entries, 0 to 30161\n",
            "Data columns (total 14 columns):\n",
            " #   Column          Non-Null Count  Dtype \n",
            "---  ------          --------------  ----- \n",
            " 0   age             30162 non-null  int64 \n",
            " 1   workclass       30162 non-null  object\n",
            " 2   fnlwgt          30162 non-null  int64 \n",
            " 3   education       30162 non-null  object\n",
            " 4   education_num   30162 non-null  int64 \n",
            " 5   marital_status  30162 non-null  object\n",
            " 6   occupation      30162 non-null  object\n",
            " 7   relationship    30162 non-null  object\n",
            " 8   race            30162 non-null  object\n",
            " 9   sex             30162 non-null  object\n",
            " 10  capital_gain    30162 non-null  int64 \n",
            " 11  capital_loss    30162 non-null  int64 \n",
            " 12  hours_per_week  30162 non-null  int64 \n",
            " 13  native_country  30162 non-null  object\n",
            "dtypes: int64(6), object(8)\n",
            "memory usage: 3.2+ MB\n",
            "None\n"
          ]
        }
      ],
      "source": [
        "print(X_train.info())"
      ]
    },
    {
      "cell_type": "markdown",
      "metadata": {
        "id": "owyOO-SbLkEP"
      },
      "source": [
        "#### 433-02"
      ]
    },
    {
      "cell_type": "code",
      "execution_count": null,
      "metadata": {
        "colab": {
          "base_uri": "https://localhost:8080/"
        },
        "id": "dOrgoBXaLbVV",
        "outputId": "7c1e2fd9-6ba9-4951-9ea2-2ba6a74cdf01"
      },
      "outputs": [
        {
          "name": "stdout",
          "output_type": "stream",
          "text": [
            "                age        fnlwgt  education_num  capital_gain  capital_loss  \\\n",
            "count  30162.000000  3.016200e+04   30162.000000  30162.000000  30162.000000   \n",
            "mean      38.437902  1.897938e+05      10.121312   1092.007858     88.372489   \n",
            "std       13.134665  1.056530e+05       2.549995   7406.346497    404.298370   \n",
            "min       17.000000  1.376900e+04       1.000000      0.000000      0.000000   \n",
            "25%       28.000000  1.176272e+05       9.000000      0.000000      0.000000   \n",
            "50%       37.000000  1.784250e+05      10.000000      0.000000      0.000000   \n",
            "75%       47.000000  2.376285e+05      13.000000      0.000000      0.000000   \n",
            "max       90.000000  1.484705e+06      16.000000  99999.000000   4356.000000   \n",
            "\n",
            "       hours_per_week  \n",
            "count    30162.000000  \n",
            "mean        40.931238  \n",
            "std         11.979984  \n",
            "min          1.000000  \n",
            "25%         40.000000  \n",
            "50%         40.000000  \n",
            "75%         45.000000  \n",
            "max         99.000000  \n"
          ]
        }
      ],
      "source": [
        "print(X_train.describe())"
      ]
    },
    {
      "cell_type": "markdown",
      "metadata": {
        "id": "g9rbWzPzL0Ln"
      },
      "source": [
        "#### 433-03"
      ]
    },
    {
      "cell_type": "code",
      "execution_count": null,
      "metadata": {
        "colab": {
          "base_uri": "https://localhost:8080/"
        },
        "id": "gwwjQOvALhng",
        "outputId": "21fee32d-6edf-4409-f820-132592d9aef0"
      },
      "outputs": [
        {
          "name": "stdout",
          "output_type": "stream",
          "text": [
            "0.75        0.0\n",
            "0.80        0.0\n",
            "0.85        0.0\n",
            "0.90        0.0\n",
            "0.95     5013.0\n",
            "1.00    99999.0\n",
            "Name: capital_gain, dtype: float64\n"
          ]
        }
      ],
      "source": [
        "print(X_train['capital_gain'].quantile([q/20 for q in range(15, 21)]))"
      ]
    },
    {
      "cell_type": "markdown",
      "metadata": {
        "id": "JWHWLYVAMAS4"
      },
      "source": [
        "#### 433-04"
      ]
    },
    {
      "cell_type": "code",
      "execution_count": null,
      "metadata": {
        "colab": {
          "base_uri": "https://localhost:8080/"
        },
        "id": "nFY94jQvMAS4",
        "outputId": "abe6407e-1d95-439d-ad83-8267f0c0b753"
      },
      "outputs": [
        {
          "name": "stdout",
          "output_type": "stream",
          "text": [
            "0.75       0.0\n",
            "0.80       0.0\n",
            "0.85       0.0\n",
            "0.90       0.0\n",
            "0.95       0.0\n",
            "1.00    4356.0\n",
            "Name: capital_loss, dtype: float64\n"
          ]
        }
      ],
      "source": [
        "print(X_train['capital_loss'].quantile([q/20 for q in range(15, 21)]))"
      ]
    },
    {
      "cell_type": "markdown",
      "metadata": {
        "id": "nW0c2kGTMU5j"
      },
      "source": [
        "#### 433-05"
      ]
    },
    {
      "cell_type": "code",
      "execution_count": null,
      "metadata": {
        "id": "jgQT3fkeMEVh"
      },
      "outputs": [],
      "source": [
        "X_train['capital_gain_yn'] = np.where(X_train['capital_gain']>0, 1, 0)\n",
        "X_train['capital_loss_yn'] = np.where(X_train['capital_loss']>0, 1, 0)\n",
        "\n",
        "X_test['capital_gain_yn'] = np.where(X_test['capital_gain']>0, 1, 0)\n",
        "X_test['capital_loss_yn'] = np.where(X_test['capital_loss']>0, 1, 0)"
      ]
    },
    {
      "cell_type": "markdown",
      "metadata": {
        "id": "9BJjw8esMc97"
      },
      "source": [
        "#### 433-06"
      ]
    },
    {
      "cell_type": "code",
      "execution_count": null,
      "metadata": {
        "id": "7H7x9PFuM78R"
      },
      "outputs": [],
      "source": [
        "COL_DEL = []\n",
        "COL_NUM = ['age', 'education_num', 'hours_per_week', 'capital_gain', 'capital_loss']\n",
        "COL_CAT = ['workclass', 'marital_status', 'occupation', 'relationship', 'race', 'sex', 'native_country', 'education', 'capital_gain_yn', 'capital_loss_yn']\n",
        "COL_Y = ['target']\n",
        "\n",
        "X_train = X_train.drop(COL_DEL, axis=1)\n",
        "X_test = X_test.drop(COL_DEL, axis=1)"
      ]
    },
    {
      "cell_type": "markdown",
      "metadata": {
        "id": "BtYxP_DoPtj3"
      },
      "source": [
        "#### 433-07"
      ]
    },
    {
      "cell_type": "code",
      "execution_count": null,
      "metadata": {
        "colab": {
          "base_uri": "https://localhost:8080/"
        },
        "id": "HEWcnedYx1Xh",
        "outputId": "e29ee9d8-ba06-4c45-ddf1-2bb9c3622108"
      },
      "outputs": [
        {
          "name": "stdout",
          "output_type": "stream",
          "text": [
            "--------------------------------------------------------------------------------\n",
            "age\n",
            "          count      mean        std   min   25%   50%   75%   max\n",
            "target                                                            \n",
            "0       22654.0  36.60806  13.464631  17.0  26.0  34.0  45.0  90.0\n",
            "1        7508.0  43.95911  10.269633  19.0  36.0  43.0  51.0  90.0\n",
            "\n",
            "--------------------------------------------------------------------------------\n",
            "education_num\n",
            "          count       mean       std  min   25%   50%   75%   max\n",
            "target                                                           \n",
            "0       22654.0   9.629116  2.413596  1.0   9.0   9.0  10.0  16.0\n",
            "1        7508.0  11.606420  2.368423  2.0  10.0  12.0  13.0  16.0\n",
            "\n",
            "--------------------------------------------------------------------------------\n",
            "hours_per_week\n",
            "          count       mean        std  min   25%   50%   75%   max\n",
            "target                                                            \n",
            "0       22654.0  39.348592  11.950774  1.0  38.0  40.0  40.0  99.0\n",
            "1        7508.0  45.706580  10.736987  1.0  40.0  40.0  50.0  99.0\n",
            "\n",
            "--------------------------------------------------------------------------------\n",
            "capital_gain\n",
            "          count         mean           std  min  25%  50%  75%      max\n",
            "target                                                                 \n",
            "0       22654.0   148.893838    936.392280  0.0  0.0  0.0  0.0  41310.0\n",
            "1        7508.0  3937.679808  14386.060019  0.0  0.0  0.0  0.0  99999.0\n",
            "\n",
            "--------------------------------------------------------------------------------\n",
            "capital_loss\n",
            "          count        mean         std  min  25%  50%  75%     max\n",
            "target                                                             \n",
            "0       22654.0   53.448000  310.270263  0.0  0.0  0.0  0.0  4356.0\n",
            "1        7508.0  193.750666  592.825590  0.0  0.0  0.0  0.0  3683.0\n",
            "\n"
          ]
        }
      ],
      "source": [
        "train_df = pd.concat([X_train, y_train], axis=1)\n",
        "\n",
        "for _col in COL_NUM:\n",
        "  print('-'*80)\n",
        "  print(_col)\n",
        "  print(train_df.groupby(COL_Y)[_col].describe(), end='\\n\\n')"
      ]
    },
    {
      "cell_type": "markdown",
      "metadata": {
        "id": "fiXy6kRvQATk"
      },
      "source": [
        "#### 433-08"
      ]
    },
    {
      "cell_type": "code",
      "execution_count": null,
      "metadata": {
        "colab": {
          "base_uri": "https://localhost:8080/"
        },
        "id": "6skJOMKX0UnX",
        "outputId": "703ba751-81b8-4232-8312-c9ae1e0b9d8e"
      },
      "outputs": [
        {
          "name": "stdout",
          "output_type": "stream",
          "text": [
            "          workclass    target\n",
            "3      Self-emp-inc  0.558659\n",
            "0       Federal-gov  0.387063\n",
            "1         Local-gov  0.294630\n",
            "4  Self-emp-not-inc  0.285714\n",
            "5         State-gov  0.268960\n",
            "2           Private  0.218792\n",
            "6       Without-pay  0.000000\n",
            "\n",
            "          marital_status    target\n",
            "1      Married-AF-spouse  0.476190\n",
            "2     Married-civ-spouse  0.454959\n",
            "0               Divorced  0.107262\n",
            "6                Widowed  0.096735\n",
            "3  Married-spouse-absent  0.083784\n",
            "5              Separated  0.070288\n",
            "4          Never-married  0.048324\n",
            "\n",
            "           occupation    target\n",
            "3     Exec-managerial  0.485220\n",
            "9      Prof-specialty  0.448489\n",
            "10    Protective-serv  0.326087\n",
            "12       Tech-support  0.304825\n",
            "11              Sales  0.270647\n",
            "2        Craft-repair  0.225310\n",
            "13   Transport-moving  0.202926\n",
            "0        Adm-clerical  0.133835\n",
            "6   Machine-op-inspct  0.124619\n",
            "4     Farming-fishing  0.116279\n",
            "1        Armed-Forces  0.111111\n",
            "5   Handlers-cleaners  0.061481\n",
            "7       Other-service  0.041096\n",
            "8     Priv-house-serv  0.006993\n",
            "\n",
            "     relationship    target\n",
            "5            Wife  0.493599\n",
            "0         Husband  0.455669\n",
            "1   Not-in-family  0.106523\n",
            "4       Unmarried  0.066314\n",
            "2  Other-relative  0.039370\n",
            "3       Own-child  0.014330\n",
            "\n",
            "                 race    target\n",
            "1  Asian-Pac-Islander  0.277095\n",
            "4               White  0.263718\n",
            "2               Black  0.129925\n",
            "0  Amer-Indian-Eskimo  0.118881\n",
            "3               Other  0.090909\n",
            "\n",
            "      sex    target\n",
            "1    Male  0.313837\n",
            "0  Female  0.113678\n",
            "\n",
            "                native_country    target\n",
            "35                      Taiwan  0.452381\n",
            "9                       France  0.444444\n",
            "19                        Iran  0.428571\n",
            "18                       India  0.400000\n",
            "23                       Japan  0.389831\n",
            "0                     Cambodia  0.388889\n",
            "40                  Yugoslavia  0.375000\n",
            "21                       Italy  0.352941\n",
            "8                      England  0.348837\n",
            "10                     Germany  0.343750\n",
            "1                       Canada  0.336449\n",
            "29                 Philippines  0.319149\n",
            "16                        Hong  0.315789\n",
            "2                        China  0.294118\n",
            "11                      Greece  0.275862\n",
            "4                         Cuba  0.271739\n",
            "38               United-States  0.254327\n",
            "17                     Hungary  0.230769\n",
            "20                     Ireland  0.208333\n",
            "34                       South  0.197183\n",
            "30                      Poland  0.196429\n",
            "33                    Scotland  0.181818\n",
            "36                    Thailand  0.176471\n",
            "6                      Ecuador  0.148148\n",
            "22                     Jamaica  0.125000\n",
            "31                    Portugal  0.117647\n",
            "24                        Laos  0.117647\n",
            "37             Trinadad&Tobago  0.111111\n",
            "32                 Puerto-Rico  0.110092\n",
            "13                       Haiti  0.095238\n",
            "7                  El-Salvador  0.090000\n",
            "15                    Honduras  0.083333\n",
            "39                     Vietnam  0.078125\n",
            "28                        Peru  0.066667\n",
            "26                   Nicaragua  0.060606\n",
            "25                      Mexico  0.054098\n",
            "12                   Guatemala  0.047619\n",
            "3                     Columbia  0.035714\n",
            "5           Dominican-Republic  0.029851\n",
            "27  Outlying-US(Guam-USVI-etc)  0.000000\n",
            "14          Holand-Netherlands  0.000000\n",
            "\n",
            "        education    target\n",
            "14    Prof-school  0.749077\n",
            "10      Doctorate  0.746667\n",
            "12        Masters  0.564229\n",
            "9       Bachelors  0.421491\n",
            "8       Assoc-voc  0.263198\n",
            "7      Assoc-acdm  0.253968\n",
            "15   Some-college  0.200060\n",
            "11        HS-grad  0.164329\n",
            "2            12th  0.076923\n",
            "0            10th  0.071951\n",
            "5         7th-8th  0.062837\n",
            "1            11th  0.056298\n",
            "6             9th  0.054945\n",
            "4         5th-6th  0.041667\n",
            "3         1st-4th  0.039735\n",
            "13      Preschool  0.000000\n",
            "\n",
            "   capital_gain_yn    target\n",
            "1                1  0.628448\n",
            "0                0  0.214053\n",
            "\n",
            "   capital_loss_yn    target\n",
            "1                1  0.516468\n",
            "0                0  0.235636\n",
            "\n"
          ]
        }
      ],
      "source": [
        "for _col in COL_CAT:\n",
        "  print(train_df.groupby(_col, as_index=False)[COL_Y].mean().sort_values(by=COL_Y, ascending=False), end='\\n\\n')"
      ]
    },
    {
      "cell_type": "markdown",
      "metadata": {
        "id": "AzqLstFOKzAw"
      },
      "source": [
        "#### 433-09"
      ]
    },
    {
      "cell_type": "code",
      "execution_count": null,
      "metadata": {
        "id": "svfXl8XNAYPg"
      },
      "outputs": [],
      "source": [
        "from sklearn.preprocessing import LabelEncoder\n",
        "X = pd.concat([X_train, X_test])\n",
        "\n",
        "for _col in COL_CAT:\n",
        "  le = LabelEncoder()\n",
        "  le.fit(X[_col])\n",
        "  X_train[_col] = le.transform(X_train[_col])\n",
        "  X_test[_col] = le.transform(X_test[_col])"
      ]
    },
    {
      "cell_type": "markdown",
      "metadata": {
        "id": "6vbSCGOaQXGq"
      },
      "source": [
        "### (4) 데이터 모형 구축"
      ]
    },
    {
      "cell_type": "markdown",
      "metadata": {
        "id": "WqUcxFQxQatq"
      },
      "source": [
        "#### 434-01"
      ]
    },
    {
      "cell_type": "code",
      "execution_count": null,
      "metadata": {
        "id": "WiTFm-5IRr9_"
      },
      "outputs": [],
      "source": [
        "from sklearn.model_selection import train_test_split\n",
        "X_tr, X_val, y_tr, y_val = train_test_split(X_train, y_train, test_size=0.3, stratify=y_train)"
      ]
    },
    {
      "cell_type": "markdown",
      "metadata": {
        "id": "367nKlK2ZC2X"
      },
      "source": [
        "#### 434-02"
      ]
    },
    {
      "cell_type": "code",
      "execution_count": null,
      "metadata": {
        "id": "6gXA-QkDlXzo"
      },
      "outputs": [],
      "source": [
        "from sklearn.preprocessing import StandardScaler\n",
        "\n",
        "scaler = StandardScaler()\n",
        "X_tr[COL_NUM] = scaler.fit_transform(X_tr[COL_NUM])\n",
        "X_val[COL_NUM] = scaler.transform(X_val[COL_NUM])\n",
        "X_test[COL_NUM] = scaler.transform(X_test[COL_NUM])"
      ]
    },
    {
      "cell_type": "markdown",
      "metadata": {
        "id": "w0gA7zXUawav"
      },
      "source": [
        "#### 434-03"
      ]
    },
    {
      "cell_type": "code",
      "execution_count": null,
      "metadata": {
        "colab": {
          "base_uri": "https://localhost:8080/"
        },
        "id": "FjKqP-bQkjZg",
        "outputId": "b56f4acb-33e5-45cd-b283-1651a7ef406e"
      },
      "outputs": [
        {
          "data": {
            "text/plain": [
              "RandomForestClassifier()"
            ]
          },
          "execution_count": 15,
          "metadata": {},
          "output_type": "execute_result"
        }
      ],
      "source": [
        "from sklearn.ensemble import RandomForestClassifier\n",
        "\n",
        "model_rf = RandomForestClassifier()\n",
        "model_rf.fit(X_tr, y_tr.values.ravel())"
      ]
    },
    {
      "cell_type": "markdown",
      "metadata": {
        "id": "fLeeC1EzbUsy"
      },
      "source": [
        "#### 434-04"
      ]
    },
    {
      "cell_type": "code",
      "execution_count": null,
      "metadata": {
        "colab": {
          "base_uri": "https://localhost:8080/"
        },
        "id": "R5VQSNsgbbDP",
        "outputId": "03039b5b-748c-4f72-e0e7-ace4b7e99ac2"
      },
      "outputs": [
        {
          "data": {
            "text/plain": [
              "XGBClassifier()"
            ]
          },
          "execution_count": 16,
          "metadata": {},
          "output_type": "execute_result"
        }
      ],
      "source": [
        "from xgboost import XGBClassifier\n",
        "\n",
        "model_xgb1 = XGBClassifier()\n",
        "model_xgb1.fit(X_tr, y_tr.values.ravel())"
      ]
    },
    {
      "cell_type": "markdown",
      "metadata": {
        "id": "V3W5QLjua3HH"
      },
      "source": [
        "#### 434-05"
      ]
    },
    {
      "cell_type": "code",
      "execution_count": null,
      "metadata": {
        "colab": {
          "base_uri": "https://localhost:8080/"
        },
        "id": "GCapKaDYCBM3",
        "outputId": "16ea3a9e-621b-4bcb-9c23-8e479d379221"
      },
      "outputs": [
        {
          "name": "stdout",
          "output_type": "stream",
          "text": [
            "[0]\tvalidation_0-auc:0.900536\n",
            "Will train until validation_0-auc hasn't improved in 50 rounds.\n"
          ]
        },
        {
          "name": "stderr",
          "output_type": "stream",
          "text": [
            "/usr/local/lib/python3.7/dist-packages/sklearn/preprocessing/_label.py:133: DataConversionWarning: A column-vector y was passed when a 1d array was expected. Please change the shape of y to (n_samples, ), for example using ravel().\n",
            "  y = column_or_1d(y, warn=True)\n"
          ]
        },
        {
          "name": "stdout",
          "output_type": "stream",
          "text": [
            "[10]\tvalidation_0-auc:0.911372\n",
            "[20]\tvalidation_0-auc:0.915807\n",
            "[30]\tvalidation_0-auc:0.918719\n",
            "[40]\tvalidation_0-auc:0.920831\n",
            "[50]\tvalidation_0-auc:0.922092\n",
            "[60]\tvalidation_0-auc:0.922749\n",
            "[70]\tvalidation_0-auc:0.922825\n",
            "[80]\tvalidation_0-auc:0.922811\n",
            "[90]\tvalidation_0-auc:0.923126\n",
            "[100]\tvalidation_0-auc:0.923108\n",
            "[110]\tvalidation_0-auc:0.923199\n",
            "[120]\tvalidation_0-auc:0.923375\n",
            "[130]\tvalidation_0-auc:0.923064\n",
            "[140]\tvalidation_0-auc:0.922898\n",
            "[150]\tvalidation_0-auc:0.922843\n",
            "[160]\tvalidation_0-auc:0.922727\n",
            "[170]\tvalidation_0-auc:0.922587\n",
            "Stopping. Best iteration:\n",
            "[120]\tvalidation_0-auc:0.923375\n",
            "\n"
          ]
        },
        {
          "data": {
            "text/plain": [
              "XGBClassifier(max_depth=10, n_estimators=1000)"
            ]
          },
          "execution_count": 17,
          "metadata": {},
          "output_type": "execute_result"
        }
      ],
      "source": [
        "model_xgb2 = XGBClassifier(n_estimators=1000, learning_rate=0.1, max_depth=10)\n",
        "model_xgb2.fit(X_tr, y_tr.values.ravel(), early_stopping_rounds=50, eval_metric='auc', eval_set=[(X_val, y_val)], verbose=10)"
      ]
    },
    {
      "cell_type": "markdown",
      "metadata": {
        "id": "aoLLSAlnbHJy"
      },
      "source": [
        "#### 434-06"
      ]
    },
    {
      "cell_type": "code",
      "execution_count": null,
      "metadata": {
        "colab": {
          "base_uri": "https://localhost:8080/"
        },
        "id": "TTw529SQDPTY",
        "outputId": "51e955d5-8455-4d53-be00-cdc0282dfcd9"
      },
      "outputs": [
        {
          "name": "stdout",
          "output_type": "stream",
          "text": [
            "0.9080038314887119\n",
            "0.9177821045278832\n"
          ]
        }
      ],
      "source": [
        "from sklearn.metrics import roc_auc_score\n",
        "\n",
        "y_pred_rf = model_rf.predict_proba(X_val)\n",
        "y_pred_xgb1 = model_xgb1.predict_proba(X_val)\n",
        "\n",
        "score_rf = roc_auc_score(y_val, y_pred_rf[:, 1])\n",
        "score_xgb1 = roc_auc_score(y_val, y_pred_xgb1[:, 1]) \n",
        "\n",
        "print(score_rf)\n",
        "print(score_xgb1)"
      ]
    },
    {
      "cell_type": "markdown",
      "metadata": {
        "id": "Pl3O4jIIlMYy"
      },
      "source": [
        "#### 434-07"
      ]
    },
    {
      "cell_type": "code",
      "execution_count": null,
      "metadata": {
        "colab": {
          "base_uri": "https://localhost:8080/"
        },
        "id": "2iS-EtoOClfP",
        "outputId": "3203ebd2-4d2b-42e1-e24d-6fe576508038"
      },
      "outputs": [
        {
          "name": "stdout",
          "output_type": "stream",
          "text": [
            "            feature     fi_rf    fi_xgb\n",
            "0               age  0.146829  0.067794\n",
            "1         workclass  0.039309  0.021139\n",
            "2            fnlwgt  0.168485  0.007656\n",
            "3         education  0.032104  0.004308\n",
            "4     education_num  0.097493  0.142239\n",
            "5    marital_status  0.073014  0.113243\n",
            "6        occupation  0.067971  0.045266\n",
            "7      relationship  0.102889  0.336865\n",
            "8              race  0.013602  0.005001\n",
            "9               sex  0.008756  0.050891\n",
            "10     capital_gain  0.098534  0.106463\n",
            "11     capital_loss  0.031450  0.040767\n",
            "12   hours_per_week  0.079227  0.048041\n",
            "13   native_country  0.014436  0.010327\n",
            "14  capital_gain_yn  0.018950  0.000000\n",
            "15  capital_loss_yn  0.006953  0.000000\n"
          ]
        }
      ],
      "source": [
        "print(pd.DataFrame({'feature': X_tr.columns, 'fi_rf': model_rf.feature_importances_, 'fi_xgb': model_xgb1.feature_importances_}))"
      ]
    },
    {
      "cell_type": "markdown",
      "metadata": {
        "id": "uv4xCzXlnEbh"
      },
      "source": [
        "#### 434-08"
      ]
    },
    {
      "cell_type": "code",
      "execution_count": null,
      "metadata": {
        "id": "R7_qJIk7lyd1"
      },
      "outputs": [],
      "source": [
        "COL_DEL = ['capital_gain_yn', 'capital_loss_yn']\n",
        "\n",
        "X_tr = X_tr.drop(COL_DEL, axis=1)\n",
        "X_val = X_val.drop(COL_DEL, axis=1)\n",
        "X_test = X_test.drop(COL_DEL, axis=1)"
      ]
    },
    {
      "cell_type": "markdown",
      "metadata": {
        "id": "effb1pGjncyb"
      },
      "source": [
        "#### 434-09"
      ]
    },
    {
      "cell_type": "code",
      "execution_count": null,
      "metadata": {
        "colab": {
          "background_save": true
        },
        "id": "KOnP9cBkEPAV",
        "outputId": "3e7da24a-a1f5-4c52-88fd-82cabecebdf7"
      },
      "outputs": [
        {
          "data": {
            "text/plain": [
              "GridSearchCV(cv=5, estimator=RandomForestClassifier(),\n",
              "             param_grid={'max_depth': [5, 10, 15],\n",
              "                         'min_samples_leaf': [1, 2, 4],\n",
              "                         'min_samples_split': [2, 5, 10],\n",
              "                         'n_estimators': [50, 100, 200]})"
            ]
          },
          "execution_count": null,
          "metadata": {},
          "output_type": "execute_result"
        }
      ],
      "source": [
        "from sklearn.model_selection import GridSearchCV\n",
        "\n",
        "grid_params = { \n",
        "    'n_estimators': [50, 100, 200],\n",
        "    'max_depth': [5, 10, 15],\n",
        "    'min_samples_split': [2, 5, 10],\n",
        "    'min_samples_leaf': [1, 2, 4]\n",
        "}\n",
        "\n",
        "rf_cv = GridSearchCV(estimator=model_rf, param_grid=grid_params, cv=5)\n",
        "rf_cv.fit(X_train, y_train.values.ravel()) "
      ]
    },
    {
      "cell_type": "markdown",
      "metadata": {
        "id": "lczD1U8FnwFB"
      },
      "source": [
        "#### 434-10"
      ]
    },
    {
      "cell_type": "code",
      "execution_count": null,
      "metadata": {
        "colab": {
          "background_save": true
        },
        "id": "cI-AOjQFKEKa",
        "outputId": "551b0c1f-896a-4b07-c82f-a98f371ff8a4"
      },
      "outputs": [
        {
          "name": "stdout",
          "output_type": "stream",
          "text": [
            "   mean_fit_time  std_fit_time  mean_score_time  std_score_time  \\\n",
            "0       0.797207      0.318617         0.038501        0.009307   \n",
            "1       0.931542      0.015341         0.049357        0.001127   \n",
            "2       1.862345      0.019528         0.102619        0.003044   \n",
            "3       0.476724      0.002888         0.025672        0.000337   \n",
            "4       0.943109      0.009310         0.048952        0.000320   \n",
            "\n",
            "  param_max_depth param_min_samples_leaf param_min_samples_split  \\\n",
            "0               5                      1                       2   \n",
            "1               5                      1                       2   \n",
            "2               5                      1                       2   \n",
            "3               5                      1                       5   \n",
            "4               5                      1                       5   \n",
            "\n",
            "  param_n_estimators                                             params  \\\n",
            "0                 50  {'max_depth': 5, 'min_samples_leaf': 1, 'min_s...   \n",
            "1                100  {'max_depth': 5, 'min_samples_leaf': 1, 'min_s...   \n",
            "2                200  {'max_depth': 5, 'min_samples_leaf': 1, 'min_s...   \n",
            "3                 50  {'max_depth': 5, 'min_samples_leaf': 1, 'min_s...   \n",
            "4                100  {'max_depth': 5, 'min_samples_leaf': 1, 'min_s...   \n",
            "\n",
            "   split0_test_score  split1_test_score  split2_test_score  split3_test_score  \\\n",
            "0           0.837394           0.841704           0.850133           0.846983   \n",
            "1           0.836897           0.844025           0.849967           0.847149   \n",
            "2           0.837726           0.844025           0.849138           0.847480   \n",
            "3           0.835240           0.843030           0.851459           0.849967   \n",
            "4           0.837726           0.842864           0.850630           0.849967   \n",
            "\n",
            "   split4_test_score  mean_test_score  std_test_score  rank_test_score  \n",
            "0           0.848309         0.844905        0.004688               81  \n",
            "1           0.847314         0.845070        0.004499               79  \n",
            "2           0.847480         0.845170        0.004078               77  \n",
            "3           0.848143         0.845568        0.005896               69  \n",
            "4           0.846817         0.845601        0.004803               68  \n"
          ]
        }
      ],
      "source": [
        "print(pd.DataFrame(rf_cv.cv_results_).head())"
      ]
    },
    {
      "cell_type": "markdown",
      "metadata": {
        "id": "-oQ0rQLYoAN6"
      },
      "source": [
        "#### 434-11"
      ]
    },
    {
      "cell_type": "code",
      "execution_count": null,
      "metadata": {
        "colab": {
          "background_save": true
        },
        "id": "a2fdcIY-SgkB",
        "outputId": "7d507649-cee6-48ad-a9a1-cbbda1b7cd44"
      },
      "outputs": [
        {
          "name": "stdout",
          "output_type": "stream",
          "text": [
            "{'max_depth': 15, 'min_samples_leaf': 1, 'min_samples_split': 2, 'n_estimators': 200}\n"
          ]
        }
      ],
      "source": [
        "print(rf_cv.best_params_)"
      ]
    },
    {
      "cell_type": "markdown",
      "metadata": {
        "id": "rusEIrBkoH09"
      },
      "source": [
        "#### 434-12"
      ]
    },
    {
      "cell_type": "code",
      "execution_count": null,
      "metadata": {
        "colab": {
          "background_save": true
        },
        "id": "wbLhmq3UU3_L",
        "outputId": "9c7177ce-fab4-4bce-83e2-e34df392ecce"
      },
      "outputs": [
        {
          "name": "stdout",
          "output_type": "stream",
          "text": [
            "0.916202157675351\n"
          ]
        }
      ],
      "source": [
        "model_rf2 = RandomForestClassifier(n_estimators=50\n",
        "                                   , max_depth=15\n",
        "                                   , min_samples_leaf=1\n",
        "                                   , min_samples_split=5)\n",
        "model_rf2.fit(X_tr, y_tr.values.ravel())\n",
        "\n",
        "y_pred_rf2 = model_rf2.predict_proba(X_val)\n",
        "score_rf2 = roc_auc_score(y_val, y_pred_rf2[:, 1])\n",
        "print(score_rf2)"
      ]
    },
    {
      "cell_type": "markdown",
      "metadata": {
        "id": "9x64R_RprDm8"
      },
      "source": [
        "#### 434-13"
      ]
    },
    {
      "cell_type": "code",
      "execution_count": null,
      "metadata": {
        "id": "M9HBnmRSR7vz"
      },
      "outputs": [],
      "source": [
        "grid_params = {'max_depth': [3, 5, 7, 10], \n",
        "               'min_child_weight': [1, 2], \n",
        "               'colsample_bytree': [0.6, 0.8],\n",
        "               'subsample': [0.6, 0.8]}\n",
        "\n",
        "xgb_cv = GridSearchCV(estimator=model_xgb1, param_grid=grid_params, cv=5)\n",
        "xgb_cv.fit(X_tr, y_tr.values.ravel())"
      ]
    },
    {
      "cell_type": "markdown",
      "metadata": {
        "id": "7RWmy0h9rJmx"
      },
      "source": [
        "#### 434-14"
      ]
    },
    {
      "cell_type": "code",
      "execution_count": null,
      "metadata": {
        "id": "bgr55h1LYPHQ"
      },
      "outputs": [],
      "source": [
        "print(xgb_cv.best_params_)"
      ]
    },
    {
      "cell_type": "markdown",
      "metadata": {
        "id": "XSu_EWDarYqS"
      },
      "source": [
        "#### 434-15"
      ]
    },
    {
      "cell_type": "code",
      "execution_count": null,
      "metadata": {
        "id": "OqmjPUDFY4YQ"
      },
      "outputs": [],
      "source": [
        "params = {'colsample_bytree': 0.6,\n",
        "          'max_depth': 7,\n",
        "          'min_child_weight': 1,\n",
        "          'subsample': 0.8}\n",
        "\n",
        "model_xgb3 = XGBClassifier(n_estimators=1000, learning_rate=0.05)\n",
        "model_xgb3.set_params(**params)\n",
        "\n",
        "model_xgb3.fit(X_tr, y_tr, early_stopping_rounds=50, eval_metric='auc', eval_set=[(X_val, y_val)], verbose=10)\n",
        "\n",
        "print(model_xgb3.best_score)"
      ]
    },
    {
      "cell_type": "markdown",
      "metadata": {
        "id": "PeTudFI8rg7B"
      },
      "source": [
        "#### 434-16"
      ]
    },
    {
      "cell_type": "code",
      "execution_count": null,
      "metadata": {
        "id": "BENtk8cUeE-i"
      },
      "outputs": [],
      "source": [
        "pred = model_xgb3.predict_proba(X_test)[:,1]\n",
        "pd.DataFrame({'index': X_test.index, 'target': pred}).to_csv('./yemoonsaBigdata/res/003000000.csv', index=False)"
      ]
    }
  ],
  "metadata": {
    "accelerator": "GPU",
    "colab": {
      "collapsed_sections": [],
      "name": "A_to_Z_빅데이터_분석_실습3.ipynb",
      "provenance": [],
      "include_colab_link": true
    },
    "kernelspec": {
      "display_name": "Python 3",
      "name": "python3"
    },
    "language_info": {
      "name": "python"
    }
  },
  "nbformat": 4,
  "nbformat_minor": 0
}