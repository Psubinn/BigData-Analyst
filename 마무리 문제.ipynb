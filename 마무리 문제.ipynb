{
 "cells": [
  {
   "cell_type": "code",
   "execution_count": 1,
   "id": "d5a8e7c5",
   "metadata": {},
   "outputs": [
    {
     "name": "stderr",
     "output_type": "stream",
     "text": [
      "fatal: destination path 'yemoonsaBigdata' already exists and is not an empty directory.\n"
     ]
    }
   ],
   "source": [
    "!git clone https://github.com/AnalyticsKnight/yemoonsaBigdata/"
   ]
  },
  {
   "cell_type": "markdown",
   "id": "cc31f6a5",
   "metadata": {},
   "source": [
    "1. 작업형 제1유형\n",
    "- Iris 데이터 세트"
   ]
  },
  {
   "cell_type": "code",
   "execution_count": 1,
   "id": "daaa430b",
   "metadata": {},
   "outputs": [],
   "source": [
    "import pandas as pd\n",
    "data = pd.read_csv(\"./yemoonsaBigdata/datasets/Part2/iris.csv\")"
   ]
  },
  {
   "cell_type": "markdown",
   "id": "4d3026dd",
   "metadata": {},
   "source": [
    "(1) Iris 데이터 세트에서 species 변수 값별로 petal_width 상위 25% 값을 구한 후, 가장 큰 값과 가장 작은 값 사이의 차이를 계산하시오."
   ]
  },
  {
   "cell_type": "code",
   "execution_count": 2,
   "id": "bcb46dd6",
   "metadata": {},
   "outputs": [
    {
     "name": "stdout",
     "output_type": "stream",
     "text": [
      "species         \n",
      "setosa      0.75    0.3\n",
      "versicolor  0.75    1.5\n",
      "virginica   0.75    2.3\n",
      "Name: petal_width, dtype: float64\n"
     ]
    }
   ],
   "source": [
    "print(data.groupby('species')['petal_width'].quantile([0.75]))"
   ]
  },
  {
   "cell_type": "markdown",
   "id": "81bcd179",
   "metadata": {},
   "source": [
    "(2) Iris 데이터 세트에서 sepal_length 변수의 전체 값들을 중복 없이 리스트로 만든 후, 오름차순으로 정렬했을 때 리스트의 10번쨰에 오는 숫자를 계산하시오."
   ]
  },
  {
   "cell_type": "code",
   "execution_count": 4,
   "id": "923d5cec",
   "metadata": {},
   "outputs": [
    {
     "name": "stdout",
     "output_type": "stream",
     "text": [
      "5.2\n"
     ]
    }
   ],
   "source": [
    "lst = data['sepal_length'].unique().tolist()\n",
    "lst.sort()\n",
    "print(lst[9])"
   ]
  },
  {
   "cell_type": "markdown",
   "id": "2ea3d7fe",
   "metadata": {},
   "source": [
    "(3) Iris 데이터세트를 sepal_width 변수 값으로 내림차순한 후 위에서부터 100개 행을 학습 데이터로 분리하고, 학습 데이터에서 sepal_width의 표준편차 값을 구한 후 50을 곱한 값을 계산하시오(최종 계산 값의 소수점 이하는 버린다.)."
   ]
  },
  {
   "cell_type": "code",
   "execution_count": 7,
   "id": "07bd2fa8",
   "metadata": {},
   "outputs": [
    {
     "name": "stdout",
     "output_type": "stream",
     "text": [
      "16\n"
     ]
    }
   ],
   "source": [
    "sorted_data = data.sort_values(by='sepal_width', ascending=False).reset_index(drop=True)\n",
    "sorted_data_split = sorted_data.loc[0:99] # sorted_data.head(10)\n",
    "print(int(sorted_data_split['sepal_width'].std()*50))"
   ]
  },
  {
   "cell_type": "markdown",
   "id": "d4f18294",
   "metadata": {},
   "source": [
    "(4) Iris 데이터 세트에서 species 변수 값별로 petal_length 상위 10개 행(큰 값)의 평균값을 구한 후, 평균값의 합을 계산하시오(최종 계산 값의 소수점 이하는 반올림한다.)."
   ]
  },
  {
   "cell_type": "code",
   "execution_count": 9,
   "id": "9dba0ff3",
   "metadata": {},
   "outputs": [
    {
     "name": "stdout",
     "output_type": "stream",
     "text": [
      "13\n"
     ]
    }
   ],
   "source": [
    "data = data.sort_values(by=['species','petal_length'], ascending=[True,False])\n",
    "data_top10 = data.groupby('species').head(10)\n",
    "print(round(data_top10.groupby('species')['petal_length'].mean().sum()))"
   ]
  },
  {
   "cell_type": "markdown",
   "id": "ae2dbd24",
   "metadata": {},
   "source": [
    "(5) Iris 데이터 세트에서 sepal_length 변수가 이상치를 가지는 데이터 행 수를 계산하시오(단, 이상치 범위는 (평군+2x표준편차) 이상이거나 (평균-2x표준편차) 이하이다.)."
   ]
  },
  {
   "cell_type": "code",
   "execution_count": 11,
   "id": "0ef06f29",
   "metadata": {},
   "outputs": [
    {
     "name": "stdout",
     "output_type": "stream",
     "text": [
      "     sepal_length  sepal_width  petal_length  petal_width    species\n",
      "118           7.7          2.6           6.9          2.3  virginica\n",
      "117           7.7          3.8           6.7          2.2  virginica\n",
      "122           7.7          2.8           6.7          2.0  virginica\n",
      "105           7.6          3.0           6.6          2.1  virginica\n",
      "131           7.9          3.8           6.4          2.0  virginica\n",
      "135           7.7          3.0           6.1          2.3  virginica\n"
     ]
    }
   ],
   "source": [
    "mean = data['sepal_length'].mean()\n",
    "std = data['sepal_length'].std()\n",
    "crt1 = mean + 2 * std\n",
    "crt2 = mean - 2 * std\n",
    "print(data[ (data['sepal_length'] >=crt1) | (data['sepal_length'] <= crt2)])"
   ]
  },
  {
   "cell_type": "markdown",
   "id": "967b13a2",
   "metadata": {},
   "source": [
    "- Wine 데이터 세트"
   ]
  },
  {
   "cell_type": "code",
   "execution_count": 12,
   "id": "edc8aa22",
   "metadata": {},
   "outputs": [],
   "source": [
    "import pandas as pd\n",
    "data = pd.read_csv('./yemoonsaBigdata/datasets/Part2/wine.csv')"
   ]
  },
  {
   "cell_type": "markdown",
   "id": "d1fc5316",
   "metadata": {},
   "source": [
    "(1) Wine 데이터 세트에서 total_phenols 결측치를 제거하고 alcalinity_of_ash 변수의 결측치는 중앙값으로 대체한 후, alcalinity_of_ash 평균값을 계산하시오(최종 계산 값의 소수점 이하는 버린다.)."
   ]
  },
  {
   "cell_type": "code",
   "execution_count": 14,
   "id": "8261cf74",
   "metadata": {},
   "outputs": [
    {
     "name": "stdout",
     "output_type": "stream",
     "text": [
      "19\n"
     ]
    }
   ],
   "source": [
    "data_drop = data[data['total_phenols'].notnull()]\n",
    "med = data['alcalinity_of_ash'].median()\n",
    "data_drop.loc[data_drop['alcalinity_of_ash'].isnull(), 'alcalinity_of_ash'] = med\n",
    "print(int(data_drop['alcalinity_of_ash'].mean()))"
   ]
  },
  {
   "cell_type": "markdown",
   "id": "0c048ad3",
   "metadata": {},
   "source": [
    "(2) Wine 데이터 세트에서 alcohol 값이 alcohol 평균 값 이상이고, color_intensity 값이 color_intensity 평균 값 이상인 데이터만 남겼을 때, 가장 많은 class 값을 구하시오."
   ]
  },
  {
   "cell_type": "code",
   "execution_count": 16,
   "id": "2947c913",
   "metadata": {},
   "outputs": [
    {
     "name": "stdout",
     "output_type": "stream",
     "text": [
      "0    37\n",
      "2    23\n",
      "1     1\n",
      "Name: class, dtype: int64\n"
     ]
    }
   ],
   "source": [
    "mean_val1 = data['alcohol'].mean()\n",
    "mean_val2 = data['color_intensity'].mean()\n",
    "\n",
    "data_filtered = data[ (data['alcohol'] >=mean_val1) & (data['color_intensity'] >= mean_val2)]\n",
    "print(data_filtered['class'].value_counts())"
   ]
  },
  {
   "cell_type": "markdown",
   "id": "441bab04",
   "metadata": {},
   "source": [
    "(3) Wine 데이터 세트에서 class 1에 해당하는 데이터의 ash 평균값과 wine 데이터 세트의 모든 결측치를 제거한 후의 ash 값의 평균값의 차이의 절댓값을 계산하시오(최종 계산 값의 소수점 아래 4번쨰 자리에서 반올림한다.)."
   ]
  },
  {
   "cell_type": "code",
   "execution_count": 17,
   "id": "d6bbf24a",
   "metadata": {},
   "outputs": [
    {
     "name": "stdout",
     "output_type": "stream",
     "text": [
      "                                    0\n",
      "alcohol                         14.23\n",
      "malic_acid                       1.71\n",
      "ash                              2.43\n",
      "alcalinity_of_ash               15.60\n",
      "magnesium                      127.00\n",
      "total_phenols                    2.80\n",
      "flavanoids                       3.06\n",
      "nonflavanoid_phenols             0.28\n",
      "proanthocyanins                  2.29\n",
      "color_intensity                  5.64\n",
      "hue                              1.04\n",
      "od280/od315_of_diluted_wines     3.92\n",
      "proline                       1065.00\n",
      "class                            0.00\n"
     ]
    }
   ],
   "source": [
    "print(data.head(1).T)"
   ]
  },
  {
   "cell_type": "code",
   "execution_count": 19,
   "id": "11f9762e",
   "metadata": {},
   "outputs": [
    {
     "name": "stdout",
     "output_type": "stream",
     "text": [
      "0.12\n"
     ]
    }
   ],
   "source": [
    "val1 = data[data['class'] ==1]['ash'].mean()\n",
    "val2 = data.dropna()['ash'].mean()\n",
    "print(round( abs(val1-val2),3 ))"
   ]
  },
  {
   "cell_type": "markdown",
   "id": "c6745322",
   "metadata": {},
   "source": [
    "(4) Wine 데이터 세트에서 alcohol 변수의 상위에서 20번째 값 alcohol을 오름차순 정렬했을 때 20번째에 위치한 값으로 상위 20개의 값을 변환한 후, proanthocyanins가 2이하인 데이터를 추출하여 alcohol의 평균값을 계산하시오(최종 계산 값의 소수점 아래 3번째 자리에서 반올림한다.)."
   ]
  },
  {
   "cell_type": "code",
   "execution_count": 21,
   "id": "b8290db1",
   "metadata": {},
   "outputs": [
    {
     "name": "stdout",
     "output_type": "stream",
     "text": [
      "12.94\n"
     ]
    }
   ],
   "source": [
    "data_sorted = data.sort_values(by='alcohol')\n",
    "data_sorted.loc[0:19] = data_sorted.loc[19,'alcohol']\n",
    "print( round(data_sorted[data_sorted['proanthocyanins'] <=2]['alcohol'].mean(),2) )"
   ]
  },
  {
   "cell_type": "markdown",
   "id": "c2383c33",
   "metadata": {},
   "source": [
    "(5) Wine 데이터 세트에서 class 1에 해당하는 데이터의 proline 변수의 제 3사분위수와 제 1사분위수 차를 구하고, class 2에 해당하는 데이터의 proline 변수의 제 3사분위수와 제 1사분위수 차를 구하여 두 값의 차이의 절댓값을 계산하시오."
   ]
  },
  {
   "cell_type": "code",
   "execution_count": 23,
   "id": "23d9fa4c",
   "metadata": {},
   "outputs": [
    {
     "name": "stdout",
     "output_type": "stream",
     "text": [
      "68.5\n"
     ]
    }
   ],
   "source": [
    "class1_q1, class1_q2 = data[data['class'] == 1]['proline'].quantile([0.25,0.75])\n",
    "class2_q1, class2_q2 = data[data['class'] == 2]['proline'].quantile([0.25,0.75])\n",
    "print(abs(abs(class1_q1-class1_q2)-abs(class2_q1-class2_q2)))"
   ]
  },
  {
   "cell_type": "code",
   "execution_count": null,
   "id": "b3b27bf9",
   "metadata": {},
   "outputs": [],
   "source": []
  }
 ],
 "metadata": {
  "kernelspec": {
   "display_name": "Python 3 (ipykernel)",
   "language": "python",
   "name": "python3"
  },
  "language_info": {
   "codemirror_mode": {
    "name": "ipython",
    "version": 3
   },
   "file_extension": ".py",
   "mimetype": "text/x-python",
   "name": "python",
   "nbconvert_exporter": "python",
   "pygments_lexer": "ipython3",
   "version": "3.9.7"
  }
 },
 "nbformat": 4,
 "nbformat_minor": 5
}
