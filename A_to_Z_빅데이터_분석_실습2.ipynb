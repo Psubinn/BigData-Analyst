{
  "nbformat": 4,
  "nbformat_minor": 0,
  "metadata": {
    "colab": {
      "name": "A to Z 빅데이터 분석 실습2.ipynb",
      "provenance": [],
      "collapsed_sections": [],
      "authorship_tag": "ABX9TyMCPuzhpUG+mkNo2SxdPv6o",
      "include_colab_link": true
    },
    "kernelspec": {
      "name": "python3",
      "display_name": "Python 3"
    },
    "language_info": {
      "name": "python"
    },
    "accelerator": "GPU"
  },
  "cells": [
    {
      "cell_type": "markdown",
      "metadata": {
        "id": "view-in-github",
        "colab_type": "text"
      },
      "source": [
        "<a href=\"https://colab.research.google.com/github/Psubinn/BigData-Analyst/blob/main/A_to_Z_%EB%B9%85%EB%8D%B0%EC%9D%B4%ED%84%B0_%EB%B6%84%EC%84%9D_%EC%8B%A4%EC%8A%B52.ipynb\" target=\"_parent\"><img src=\"https://colab.research.google.com/assets/colab-badge.svg\" alt=\"Open In Colab\"/></a>"
      ]
    },
    {
      "cell_type": "code",
      "execution_count": 1,
      "metadata": {
        "colab": {
          "base_uri": "https://localhost:8080/"
        },
        "id": "5ynGCb3PxBtT",
        "outputId": "d1386fb6-0b00-455d-aa65-60343b22f6af"
      },
      "outputs": [
        {
          "output_type": "stream",
          "name": "stdout",
          "text": [
            "fatal: destination path 'yemoonsaBigdata' already exists and is not an empty directory.\n"
          ]
        }
      ],
      "source": [
        "!git clone https://github.com/AnalyticsKnight/yemoonsaBigdata"
      ]
    },
    {
      "cell_type": "markdown",
      "source": [
        "2. 실습 A to Z : Penguins"
      ],
      "metadata": {
        "id": "YUkvEyWyxMSd"
      }
    },
    {
      "cell_type": "markdown",
      "source": [
        "(1) 사전 준비"
      ],
      "metadata": {
        "id": "J-iEb0Uky9yE"
      }
    },
    {
      "cell_type": "code",
      "source": [
        "import pandas as pd\n",
        "import numpy as np\n",
        "import warnings\n",
        "\n",
        "warnings.filterwarnings('ignore')"
      ],
      "metadata": {
        "id": "ra3wZydexJVC"
      },
      "execution_count": 2,
      "outputs": []
    },
    {
      "cell_type": "code",
      "source": [
        "X_test = pd.read_csv('./yemoonsaBigdata/datasets/Part2/penguin_X_test.csv')\n",
        "X_train = pd.read_csv('./yemoonsaBigdata/datasets/Part2/penguin_X_train.csv')\n",
        "y_train = pd.read_csv('./yemoonsaBigdata/datasets/Part2/penguin_y_train.csv')"
      ],
      "metadata": {
        "id": "cjwVZuiFzFKq"
      },
      "execution_count": 3,
      "outputs": []
    },
    {
      "cell_type": "markdown",
      "source": [
        "(2) 데이터 전처리"
      ],
      "metadata": {
        "id": "v23qDr4BzkXL"
      }
    },
    {
      "cell_type": "code",
      "source": [
        "print(X_train.info())"
      ],
      "metadata": {
        "colab": {
          "base_uri": "https://localhost:8080/"
        },
        "id": "PMTPSHvczhux",
        "outputId": "842a594f-f5de-41f2-bffb-7aa90dbe9374"
      },
      "execution_count": 4,
      "outputs": [
        {
          "output_type": "stream",
          "name": "stdout",
          "text": [
            "<class 'pandas.core.frame.DataFrame'>\n",
            "RangeIndex: 240 entries, 0 to 239\n",
            "Data columns (total 6 columns):\n",
            " #   Column             Non-Null Count  Dtype  \n",
            "---  ------             --------------  -----  \n",
            " 0   species            240 non-null    object \n",
            " 1   island             240 non-null    object \n",
            " 2   sex                232 non-null    object \n",
            " 3   bill_length_mm     238 non-null    float64\n",
            " 4   bill_depth_mm      238 non-null    float64\n",
            " 5   flipper_length_mm  238 non-null    float64\n",
            "dtypes: float64(3), object(3)\n",
            "memory usage: 11.4+ KB\n",
            "None\n"
          ]
        }
      ]
    },
    {
      "cell_type": "code",
      "source": [
        "train = pd.concat([X_train, y_train],axis=1)\n",
        "print(train.loc[(train.sex.isna()) | (train.bill_length_mm.isna()) | (train.bill_depth_mm.isna()) | (train.flipper_length_mm.isna()) | (train.body_mass_g.isna())])"
      ],
      "metadata": {
        "colab": {
          "base_uri": "https://localhost:8080/"
        },
        "id": "K2eMqYGRzofV",
        "outputId": "b0196923-52b0-454b-b5f3-d91fe22eeb98"
      },
      "execution_count": 5,
      "outputs": [
        {
          "output_type": "stream",
          "name": "stdout",
          "text": [
            "    species     island  sex  bill_length_mm  bill_depth_mm  flipper_length_mm  \\\n",
            "0    Adelie  Torgersen  NaN            42.0           20.2              190.0   \n",
            "6    Gentoo     Biscoe  NaN            44.5           14.3              216.0   \n",
            "43   Gentoo     Biscoe  NaN             NaN            NaN                NaN   \n",
            "66   Adelie  Torgersen  NaN            37.8           17.3              180.0   \n",
            "88   Gentoo     Biscoe  NaN            47.3           13.8              216.0   \n",
            "89   Adelie  Torgersen  NaN            37.8           17.1              186.0   \n",
            "110  Gentoo     Biscoe  NaN            44.5           15.7              217.0   \n",
            "229  Adelie  Torgersen  NaN             NaN            NaN                NaN   \n",
            "\n",
            "     body_mass_g  \n",
            "0         4250.0  \n",
            "6         4100.0  \n",
            "43           NaN  \n",
            "66        3700.0  \n",
            "88        4725.0  \n",
            "89        3300.0  \n",
            "110       4875.0  \n",
            "229          NaN  \n"
          ]
        }
      ]
    },
    {
      "cell_type": "code",
      "source": [
        "train = train.dropna()\n",
        "train.reset_index(drop=True, inplace=True)"
      ],
      "metadata": {
        "id": "u-_GSQCA0vqc"
      },
      "execution_count": 6,
      "outputs": []
    },
    {
      "cell_type": "code",
      "source": [
        "X_train = train[['species','island','sex','bill_length_mm','bill_depth_mm','flipper_length_mm']]\n",
        "y_train = train[['body_mass_g']]"
      ],
      "metadata": {
        "id": "T6_sBcD02Sp6"
      },
      "execution_count": 7,
      "outputs": []
    },
    {
      "cell_type": "code",
      "source": [
        "print(X_train.describe())"
      ],
      "metadata": {
        "colab": {
          "base_uri": "https://localhost:8080/"
        },
        "id": "K7bKKQgM2m0f",
        "outputId": "14fd8ba9-96e1-405f-ed8f-a147457301e9"
      },
      "execution_count": 8,
      "outputs": [
        {
          "output_type": "stream",
          "name": "stdout",
          "text": [
            "       bill_length_mm  bill_depth_mm  flipper_length_mm\n",
            "count      232.000000     232.000000         232.000000\n",
            "mean        43.990948      17.226293         200.681034\n",
            "std          5.509760       1.964677          14.064231\n",
            "min         32.100000      13.200000         172.000000\n",
            "25%         39.200000      15.700000         190.000000\n",
            "50%         44.950000      17.350000         197.000000\n",
            "75%         48.775000      18.725000         212.250000\n",
            "max         58.000000      21.500000         231.000000\n"
          ]
        }
      ]
    },
    {
      "cell_type": "code",
      "source": [
        "COL_DEL = []\n",
        "COL_NUM = ['bill_length_mm','bill_depth_mm','flipper_length_mm']\n",
        "COL_CAT = ['species','island','sex']\n",
        "COL_Y = ['body_mass_g']"
      ],
      "metadata": {
        "id": "uWIjFM5h2xeH"
      },
      "execution_count": 13,
      "outputs": []
    },
    {
      "cell_type": "code",
      "source": [
        "X = pd.concat([X_train, X_test])\n",
        "\n",
        "from sklearn.preprocessing import OneHotEncoder\n",
        "ohe = OneHotEncoder(handle_unknown='ignore')\n",
        "ohe.fit(X[COL_CAT])\n",
        "\n",
        "X_train_res = ohe.transform(X_train[COL_CAT])\n",
        "X_test_res = ohe.transform(X_test[COL_CAT])"
      ],
      "metadata": {
        "id": "FFVluaV13NKR"
      },
      "execution_count": 14,
      "outputs": []
    },
    {
      "cell_type": "code",
      "source": [
        "print(X_train_res)"
      ],
      "metadata": {
        "colab": {
          "base_uri": "https://localhost:8080/"
        },
        "id": "KUJggdS14gqu",
        "outputId": "4990c289-fd4d-4b93-d5e7-70615574386e"
      },
      "execution_count": 15,
      "outputs": [
        {
          "output_type": "stream",
          "name": "stdout",
          "text": [
            "  (0, 2)\t1.0\n",
            "  (0, 3)\t1.0\n",
            "  (0, 6)\t1.0\n",
            "  (1, 0)\t1.0\n",
            "  (1, 5)\t1.0\n",
            "  (1, 7)\t1.0\n",
            "  (2, 1)\t1.0\n",
            "  (2, 4)\t1.0\n",
            "  (2, 7)\t1.0\n",
            "  (3, 2)\t1.0\n",
            "  (3, 3)\t1.0\n",
            "  (3, 7)\t1.0\n",
            "  (4, 0)\t1.0\n",
            "  (4, 4)\t1.0\n",
            "  (4, 6)\t1.0\n",
            "  (5, 2)\t1.0\n",
            "  (5, 3)\t1.0\n",
            "  (5, 7)\t1.0\n",
            "  (6, 2)\t1.0\n",
            "  (6, 3)\t1.0\n",
            "  (6, 6)\t1.0\n",
            "  (7, 0)\t1.0\n",
            "  (7, 5)\t1.0\n",
            "  (7, 6)\t1.0\n",
            "  (8, 2)\t1.0\n",
            "  :\t:\n",
            "  (223, 6)\t1.0\n",
            "  (224, 2)\t1.0\n",
            "  (224, 3)\t1.0\n",
            "  (224, 7)\t1.0\n",
            "  (225, 0)\t1.0\n",
            "  (225, 4)\t1.0\n",
            "  (225, 7)\t1.0\n",
            "  (226, 1)\t1.0\n",
            "  (226, 4)\t1.0\n",
            "  (226, 7)\t1.0\n",
            "  (227, 1)\t1.0\n",
            "  (227, 4)\t1.0\n",
            "  (227, 6)\t1.0\n",
            "  (228, 2)\t1.0\n",
            "  (228, 3)\t1.0\n",
            "  (228, 7)\t1.0\n",
            "  (229, 0)\t1.0\n",
            "  (229, 5)\t1.0\n",
            "  (229, 6)\t1.0\n",
            "  (230, 1)\t1.0\n",
            "  (230, 4)\t1.0\n",
            "  (230, 6)\t1.0\n",
            "  (231, 2)\t1.0\n",
            "  (231, 3)\t1.0\n",
            "  (231, 6)\t1.0\n"
          ]
        }
      ]
    },
    {
      "cell_type": "code",
      "source": [
        "# 데이터프레임으로 변경\n",
        "\n",
        "X_train_ohe = pd.DataFrame(X_train_res.todense(), columns = ohe.get_feature_names())\n",
        "X_test_ohe = pd.DataFrame(X_test_res.todense(), columns = ohe.get_feature_names())\n",
        "print(X_train_ohe)\n",
        "\n",
        "X_train_fin = pd.concat([X_train[COL_NUM], X_train_ohe], axis=1)\n",
        "X_test_fin = pd.concat([X_test[COL_NUM], X_test_ohe], axis=1)"
      ],
      "metadata": {
        "id": "bbJqQFwW495c",
        "colab": {
          "base_uri": "https://localhost:8080/"
        },
        "outputId": "09708949-0aac-49dd-ec1c-595ea381d738"
      },
      "execution_count": 16,
      "outputs": [
        {
          "output_type": "stream",
          "name": "stdout",
          "text": [
            "     x0_Adelie  x0_Chinstrap  x0_Gentoo  x1_Biscoe  x1_Dream  x1_Torgersen  \\\n",
            "0          0.0           0.0        1.0        1.0       0.0           0.0   \n",
            "1          1.0           0.0        0.0        0.0       0.0           1.0   \n",
            "2          0.0           1.0        0.0        0.0       1.0           0.0   \n",
            "3          0.0           0.0        1.0        1.0       0.0           0.0   \n",
            "4          1.0           0.0        0.0        0.0       1.0           0.0   \n",
            "..         ...           ...        ...        ...       ...           ...   \n",
            "227        0.0           1.0        0.0        0.0       1.0           0.0   \n",
            "228        0.0           0.0        1.0        1.0       0.0           0.0   \n",
            "229        1.0           0.0        0.0        0.0       0.0           1.0   \n",
            "230        0.0           1.0        0.0        0.0       1.0           0.0   \n",
            "231        0.0           0.0        1.0        1.0       0.0           0.0   \n",
            "\n",
            "     x2_FEMALE  x2_MALE  \n",
            "0          1.0      0.0  \n",
            "1          0.0      1.0  \n",
            "2          0.0      1.0  \n",
            "3          0.0      1.0  \n",
            "4          1.0      0.0  \n",
            "..         ...      ...  \n",
            "227        1.0      0.0  \n",
            "228        0.0      1.0  \n",
            "229        1.0      0.0  \n",
            "230        1.0      0.0  \n",
            "231        1.0      0.0  \n",
            "\n",
            "[232 rows x 8 columns]\n"
          ]
        }
      ]
    },
    {
      "cell_type": "markdown",
      "source": [
        "(3) 데이터 모형 구축"
      ],
      "metadata": {
        "id": "-0EatvGszyca"
      }
    },
    {
      "cell_type": "code",
      "source": [
        "from sklearn.model_selection import train_test_split\n",
        "X_tr, X_val, y_tr, y_val = train_test_split(X_train_fin, y_train, test_size = 0.3)"
      ],
      "metadata": {
        "id": "RUVJVFZSxNtB"
      },
      "execution_count": 17,
      "outputs": []
    },
    {
      "cell_type": "code",
      "source": [
        "from sklearn.preprocessing import MinMaxScaler\n",
        "\n",
        "scaler = MinMaxScaler()\n",
        "scaler.fit(X_tr[COL_NUM])\n",
        "X_tr[COL_NUM] = scaler.transform(X_tr[COL_NUM])\n",
        "X_val[COL_NUM] = scaler.transform(X_val[COL_NUM])\n",
        "X_test_fin[COL_NUM] = scaler.transform(X_test_fin[COL_NUM])"
      ],
      "metadata": {
        "id": "CfS_nDcz0DRB"
      },
      "execution_count": 18,
      "outputs": []
    },
    {
      "cell_type": "code",
      "source": [
        "from sklearn.linear_model import LinearRegression\n",
        "\n",
        "modelLR = LinearRegression()\n",
        "modelLR.fit(X_tr, y_tr)\n",
        "\n",
        "y_val_pred = modelLR.predict(X_val)\n",
        "print(y_val_pred)"
      ],
      "metadata": {
        "colab": {
          "base_uri": "https://localhost:8080/"
        },
        "id": "3R77GV-V0vQy",
        "outputId": "a7e173d2-671e-4568-b318-2abfde87a4ab"
      },
      "execution_count": 19,
      "outputs": [
        {
          "output_type": "stream",
          "name": "stdout",
          "text": [
            "[[3490.26191915]\n",
            " [5310.26660198]\n",
            " [4289.38799035]\n",
            " [3338.98830332]\n",
            " [3400.540315  ]\n",
            " [3364.1769374 ]\n",
            " [3885.21539851]\n",
            " [3260.98906355]\n",
            " [4127.18267667]\n",
            " [3469.37065427]\n",
            " [4779.46128221]\n",
            " [4044.62110169]\n",
            " [3458.66115244]\n",
            " [3797.35064247]\n",
            " [4304.14824322]\n",
            " [4725.324198  ]\n",
            " [3337.55388495]\n",
            " [3270.72711057]\n",
            " [3806.33017465]\n",
            " [3364.568692  ]\n",
            " [5342.42467699]\n",
            " [4663.87603113]\n",
            " [3872.92186919]\n",
            " [3414.04347499]\n",
            " [4648.12270792]\n",
            " [4071.76576584]\n",
            " [3221.38681045]\n",
            " [3349.24759259]\n",
            " [4276.05477589]\n",
            " [3244.7952459 ]\n",
            " [3289.88028057]\n",
            " [3951.94920298]\n",
            " [3259.08824819]\n",
            " [3413.98571755]\n",
            " [4146.6539737 ]\n",
            " [4721.92163721]\n",
            " [5564.9600027 ]\n",
            " [4106.57209794]\n",
            " [4930.20829424]\n",
            " [4156.00604229]\n",
            " [3588.23752325]\n",
            " [4086.05366938]\n",
            " [4039.02332958]\n",
            " [5589.00686061]\n",
            " [4684.45571519]\n",
            " [5449.46060127]\n",
            " [4043.30916046]\n",
            " [3419.07603451]\n",
            " [4200.55087623]\n",
            " [4193.79009135]\n",
            " [4636.79687073]\n",
            " [4692.22205221]\n",
            " [4160.14911966]\n",
            " [3160.77658834]\n",
            " [4137.28826799]\n",
            " [5627.37262336]\n",
            " [3576.28563567]\n",
            " [3816.99396495]\n",
            " [3816.30084723]\n",
            " [3870.14535878]\n",
            " [3350.04534228]\n",
            " [3497.886027  ]\n",
            " [4390.1017607 ]\n",
            " [4255.8102443 ]\n",
            " [5477.82785895]\n",
            " [3386.82149155]\n",
            " [5738.17398677]\n",
            " [3277.56312681]\n",
            " [5524.14875299]\n",
            " [4155.07758502]]\n"
          ]
        }
      ]
    },
    {
      "cell_type": "code",
      "source": [
        "print(modelLR.intercept_)\n",
        "\n",
        "coef = pd.Series(data=modelLR.coef_[0], index = X_train_fin.columns)\n",
        "print(coef.sort_values())"
      ],
      "metadata": {
        "colab": {
          "base_uri": "https://localhost:8080/"
        },
        "id": "USzWKpqt5ncZ",
        "outputId": "e575a2ec-d75b-4365-d3e9-dec699ce6fe2"
      },
      "execution_count": 21,
      "outputs": [
        {
          "output_type": "stream",
          "name": "stdout",
          "text": [
            "[3354.36287198]\n",
            "x0_Chinstrap        -368.468121\n",
            "x0_Adelie           -267.222051\n",
            "x2_FEMALE           -223.643335\n",
            "x1_Dream             -63.833033\n",
            "x1_Torgersen         -40.518787\n",
            "x1_Biscoe            104.351820\n",
            "x2_MALE              223.643335\n",
            "bill_depth_mm        336.515087\n",
            "bill_length_mm       380.860684\n",
            "x0_Gentoo            635.690173\n",
            "flipper_length_mm    930.507966\n",
            "dtype: float64\n"
          ]
        }
      ]
    },
    {
      "cell_type": "markdown",
      "source": [
        "(4) 데이터 모형 평가"
      ],
      "metadata": {
        "id": "UWpRSUfQ6qgt"
      }
    },
    {
      "cell_type": "code",
      "source": [
        "from sklearn.metrics import mean_squared_error, r2_score\n",
        "\n",
        "mse = mean_squared_error(y_val, y_val_pred)\n",
        "rmse = mean_squared_error(y_val, y_val_pred, squared=False)\n",
        "\n",
        "print('MSE : {0:.3f} , RMSE : {1:.3F} '.format(mse , rmse))"
      ],
      "metadata": {
        "colab": {
          "base_uri": "https://localhost:8080/"
        },
        "id": "wh8WTDed7Cxe",
        "outputId": "85bc4c01-2aed-4542-de66-80877e873175"
      },
      "execution_count": 27,
      "outputs": [
        {
          "output_type": "stream",
          "name": "stdout",
          "text": [
            "MSE : 103533.020 , RMSE : 321.765 \n"
          ]
        }
      ]
    },
    {
      "cell_type": "code",
      "source": [
        "y_pred = modelLR.predict(X_test_fin)\n",
        "print(y_pred)"
      ],
      "metadata": {
        "colab": {
          "base_uri": "https://localhost:8080/"
        },
        "id": "AlYF31tB7l-B",
        "outputId": "49bd16ff-f7d9-48f4-d5a7-05cd5af2a757"
      },
      "execution_count": 28,
      "outputs": [
        {
          "output_type": "stream",
          "name": "stdout",
          "text": [
            "[[4042.58749571]\n",
            " [5374.72583475]\n",
            " [4117.87010264]\n",
            " [3363.63207071]\n",
            " [4695.0304175 ]\n",
            " [3978.81840205]\n",
            " [3307.4816569 ]\n",
            " [3699.85791004]\n",
            " [3529.44078228]\n",
            " [3425.77090103]\n",
            " [3300.77072207]\n",
            " [5519.05922009]\n",
            " [3610.0008659 ]\n",
            " [4084.7703045 ]\n",
            " [3753.90596511]\n",
            " [4119.73350646]\n",
            " [4371.04558299]\n",
            " [3525.95736705]\n",
            " [3527.44588682]\n",
            " [3289.93751367]\n",
            " [5363.3141479 ]\n",
            " [4097.06622167]\n",
            " [5856.41390209]\n",
            " [4713.93788936]\n",
            " [5411.37924717]\n",
            " [5528.98249381]\n",
            " [5535.21141814]\n",
            " [4129.39923432]\n",
            " [3428.07558334]\n",
            " [3979.54092038]\n",
            " [4093.97940007]\n",
            " [3339.23295277]\n",
            " [3527.32631877]\n",
            " [4654.99568089]\n",
            " [3275.41776863]\n",
            " [3396.95543971]\n",
            " [3320.70390321]\n",
            " [3311.56012121]\n",
            " [3936.70657327]\n",
            " [4966.58467797]\n",
            " [3403.98721247]\n",
            " [5611.21304535]\n",
            " [4958.34099641]\n",
            " [4726.00424315]\n",
            " [5761.39447843]\n",
            " [3791.96141667]\n",
            " [4791.10014459]\n",
            " [3348.21055501]\n",
            " [5430.56050937]\n",
            " [4237.13170485]\n",
            " [4700.54420346]\n",
            " [4755.43566089]\n",
            " [4180.69221644]\n",
            " [3858.98700974]\n",
            " [3193.2338319 ]\n",
            " [4268.32682323]\n",
            " [4860.29665023]\n",
            " [4650.55019663]\n",
            " [3899.07808877]\n",
            " [3977.25204356]\n",
            " [3626.05851526]\n",
            " [4879.79417596]\n",
            " [3323.22197397]\n",
            " [4902.09682865]\n",
            " [4085.74537658]\n",
            " [3999.46322351]\n",
            " [5512.12901402]\n",
            " [3252.94007167]\n",
            " [4780.74937948]\n",
            " [3664.97966704]\n",
            " [4094.48529162]\n",
            " [3442.57769648]\n",
            " [4758.45734509]\n",
            " [3176.86883929]\n",
            " [4883.98386814]\n",
            " [4659.40193031]\n",
            " [5409.8565944 ]\n",
            " [3282.19427365]\n",
            " [3405.4369151 ]\n",
            " [4817.4494067 ]\n",
            " [3425.91960687]\n",
            " [5727.74475196]\n",
            " [3403.17873785]\n",
            " [4842.1583115 ]\n",
            " [4712.94481903]\n",
            " [3315.63482285]\n",
            " [5662.99049225]\n",
            " [4116.35457012]\n",
            " [3830.21770842]\n",
            " [4787.31994556]\n",
            " [4045.7998346 ]\n",
            " [4110.53275108]\n",
            " [4118.79215277]\n",
            " [4216.36143254]\n",
            " [5464.2388524 ]\n",
            " [4080.77832082]\n",
            " [5323.55320163]\n",
            " [3519.27796096]\n",
            " [4813.67658763]\n",
            " [5381.97968431]\n",
            " [3490.20942154]]\n"
          ]
        }
      ]
    },
    {
      "cell_type": "code",
      "source": [
        "pd.DataFrame({'body_mass_g ' : y_pred[:,0]}).to_csv('./yemoonsaBigdata/res/004000000.csv', index = False)"
      ],
      "metadata": {
        "id": "RfKAk_467yRs"
      },
      "execution_count": 29,
      "outputs": []
    },
    {
      "cell_type": "code",
      "source": [
        ""
      ],
      "metadata": {
        "id": "K6suNKWo8GKe"
      },
      "execution_count": null,
      "outputs": []
    }
  ]
}