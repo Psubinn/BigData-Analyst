{
  "nbformat": 4,
  "nbformat_minor": 0,
  "metadata": {
    "colab": {
      "name": "빅분기 실무.ipynb",
      "provenance": [],
      "collapsed_sections": [],
      "authorship_tag": "ABX9TyOvXYtl20NwabIyUu1l/0wq",
      "include_colab_link": true
    },
    "kernelspec": {
      "name": "python3",
      "display_name": "Python 3"
    },
    "language_info": {
      "name": "python"
    },
    "accelerator": "GPU"
  },
  "cells": [
    {
      "cell_type": "markdown",
      "metadata": {
        "id": "view-in-github",
        "colab_type": "text"
      },
      "source": [
        "<a href=\"https://colab.research.google.com/github/Psubinn/BigData-Analyst/blob/main/%EB%B9%85%EB%B6%84%EA%B8%B0_%EC%8B%A4%EB%AC%B4.ipynb\" target=\"_parent\"><img src=\"https://colab.research.google.com/assets/colab-badge.svg\" alt=\"Open In Colab\"/></a>"
      ]
    },
    {
      "cell_type": "markdown",
      "source": [
        "CHAP3\n",
        "1. 데이터 수집\n",
        "- 데이터 로딩"
      ],
      "metadata": {
        "id": "bw66iPA_d3pe"
      }
    },
    {
      "cell_type": "code",
      "execution_count": null,
      "metadata": {
        "colab": {
          "base_uri": "https://localhost:8080/"
        },
        "id": "-T9XVaGEVaJj",
        "outputId": "714517fc-1ed0-4934-9d2c-198db96c341b"
      },
      "outputs": [
        {
          "output_type": "stream",
          "name": "stdout",
          "text": [
            "fatal: destination path 'yemoonsaBigdata' already exists and is not an empty directory.\n"
          ]
        }
      ],
      "source": [
        "!git clone https://github.com/AnalyticsKnight/yemoonsaBigdata"
      ]
    },
    {
      "cell_type": "code",
      "source": [
        "import pandas as pd\n",
        "\n",
        "data = pd.read_csv('./yemoonsaBigdata/datasets/Part2/housing_data.csv', header=None, sep=',')\n",
        "col_names = ['CRIM', 'ZN','INDUS','CHAS','NOX','RM','AGE','DIS','RAD','TAX','PTRATIO','B','LSTAT','MEDV','isHightValue']\n",
        "data.columns = col_names"
      ],
      "metadata": {
        "id": "rA0LV0usWlmx"
      },
      "execution_count": null,
      "outputs": []
    },
    {
      "cell_type": "code",
      "source": [
        "print(data.head())"
      ],
      "metadata": {
        "colab": {
          "base_uri": "https://localhost:8080/"
        },
        "id": "t_mjw6mwdXbQ",
        "outputId": "3a177abc-3b76-4139-e6d6-9a894cea6dc8"
      },
      "execution_count": null,
      "outputs": [
        {
          "output_type": "stream",
          "name": "stdout",
          "text": [
            "      CRIM    ZN  INDUS  CHAS    NOX     RM   AGE     DIS  RAD    TAX  \\\n",
            "0  0.00632  18.0   2.31     0  0.538  6.575  65.2  4.0900    1  296.0   \n",
            "1  0.02731   0.0   7.07     0  0.469  6.421  78.9  4.9671    2  242.0   \n",
            "2  0.02729   0.0   7.07     0  0.469  7.185  61.1  4.9671    2  242.0   \n",
            "3  0.03237   0.0   2.18     0  0.458  6.998  45.8  6.0622    3  222.0   \n",
            "4  0.06905   0.0   2.18     0  0.458  7.147  54.2  6.0622    3  222.0   \n",
            "\n",
            "   PTRATIO       B  LSTAT  MEDV  isHightValue  \n",
            "0     15.3  396.90   4.98  24.0             0  \n",
            "1     17.8  396.90   9.14  21.6             0  \n",
            "2     17.8  392.83   4.03  34.7             1  \n",
            "3     18.7  394.63   2.94  33.4             1  \n",
            "4     18.7  396.90   5.33  36.2             1  \n"
          ]
        }
      ]
    },
    {
      "cell_type": "markdown",
      "source": [
        "2. 데이터 전처리\n",
        "- 데이터 확인"
      ],
      "metadata": {
        "id": "0KPLAICueQdM"
      }
    },
    {
      "cell_type": "code",
      "source": [
        "print(data.shape)"
      ],
      "metadata": {
        "colab": {
          "base_uri": "https://localhost:8080/"
        },
        "id": "6LGvsDXveKJT",
        "outputId": "a620ac35-6c03-4f80-dae9-cfc01832c8c7"
      },
      "execution_count": null,
      "outputs": [
        {
          "output_type": "stream",
          "name": "stdout",
          "text": [
            "(526, 15)\n"
          ]
        }
      ]
    },
    {
      "cell_type": "code",
      "source": [
        "print(data.info())"
      ],
      "metadata": {
        "colab": {
          "base_uri": "https://localhost:8080/"
        },
        "id": "pIb7zI9CeY9i",
        "outputId": "484fdd27-6a1d-4b61-97cd-4e1c509a5c30"
      },
      "execution_count": null,
      "outputs": [
        {
          "output_type": "stream",
          "name": "stdout",
          "text": [
            "<class 'pandas.core.frame.DataFrame'>\n",
            "RangeIndex: 526 entries, 0 to 525\n",
            "Data columns (total 15 columns):\n",
            " #   Column        Non-Null Count  Dtype  \n",
            "---  ------        --------------  -----  \n",
            " 0   CRIM          506 non-null    float64\n",
            " 1   ZN            526 non-null    float64\n",
            " 2   INDUS         526 non-null    float64\n",
            " 3   CHAS          526 non-null    int64  \n",
            " 4   NOX           526 non-null    float64\n",
            " 5   RM            526 non-null    float64\n",
            " 6   AGE           526 non-null    float64\n",
            " 7   DIS           526 non-null    float64\n",
            " 8   RAD           526 non-null    int64  \n",
            " 9   TAX           526 non-null    float64\n",
            " 10  PTRATIO       526 non-null    float64\n",
            " 11  B             526 non-null    float64\n",
            " 12  LSTAT         526 non-null    float64\n",
            " 13  MEDV          526 non-null    float64\n",
            " 14  isHightValue  526 non-null    int64  \n",
            "dtypes: float64(12), int64(3)\n",
            "memory usage: 61.8 KB\n",
            "None\n"
          ]
        }
      ]
    },
    {
      "cell_type": "code",
      "source": [
        "print(data.describe())"
      ],
      "metadata": {
        "colab": {
          "base_uri": "https://localhost:8080/"
        },
        "id": "boDd8C4HebZs",
        "outputId": "d6ead7f2-8ade-43b6-f21d-1b055860f109"
      },
      "execution_count": null,
      "outputs": [
        {
          "output_type": "stream",
          "name": "stdout",
          "text": [
            "             CRIM          ZN       INDUS        CHAS         NOX          RM  \\\n",
            "count  506.000000  526.000000  526.000000  526.000000  526.000000  526.000000   \n",
            "mean     3.613524   10.931559   11.306616    0.066540    0.555954    6.271076   \n",
            "std      8.601545   22.977112    6.934739    0.249461    0.113854    0.698140   \n",
            "min      0.006320    0.000000    0.460000    0.000000    0.385000    3.561000   \n",
            "25%      0.082045    0.000000    5.190000    0.000000    0.453000    5.879250   \n",
            "50%      0.256510    0.000000    9.690000    0.000000    0.538000    6.183500   \n",
            "75%      3.677083   12.500000   18.100000    0.000000    0.624000    6.613500   \n",
            "max     88.976200  100.000000   27.740000    1.000000    0.871000    8.780000   \n",
            "\n",
            "              AGE         DIS         RAD         TAX     PTRATIO           B  \\\n",
            "count  526.000000  526.000000  526.000000  526.000000  526.000000  526.000000   \n",
            "mean    68.816540    3.742880    9.416350  410.547529   18.513308  357.888099   \n",
            "std     27.868375    2.083661    8.653743  169.180818    2.147684   89.829808   \n",
            "min      2.900000    1.129600    1.000000  187.000000   12.600000    0.320000   \n",
            "25%     45.625000    2.101425    4.000000  279.000000   17.400000  376.057500   \n",
            "50%     77.500000    3.095750    5.000000  334.500000   19.100000  391.955000   \n",
            "75%     93.900000    5.112625   24.000000  666.000000   20.200000  396.397500   \n",
            "max    100.000000   12.126500   24.000000  711.000000   22.000000  396.900000   \n",
            "\n",
            "            LSTAT        MEDV  isHightValue  \n",
            "count  526.000000  526.000000    526.000000  \n",
            "mean    12.721578   22.374525      0.250951  \n",
            "std      7.101213    9.104400      0.433973  \n",
            "min      1.730000    5.000000      0.000000  \n",
            "25%      7.150000   16.850000      0.000000  \n",
            "50%     11.490000   21.100000      0.000000  \n",
            "75%     17.057500   24.950000      0.750000  \n",
            "max     37.970000   50.000000      1.000000  \n"
          ]
        }
      ]
    },
    {
      "cell_type": "markdown",
      "source": [
        "- 결측치 처리"
      ],
      "metadata": {
        "id": "6r6lKt2JehsG"
      }
    },
    {
      "cell_type": "code",
      "source": [
        "print(data.isnull().sum())"
      ],
      "metadata": {
        "colab": {
          "base_uri": "https://localhost:8080/"
        },
        "id": "8UH55EOJeeU6",
        "outputId": "92b5c305-7230-4490-ea68-981e306a4806"
      },
      "execution_count": null,
      "outputs": [
        {
          "output_type": "stream",
          "name": "stdout",
          "text": [
            "CRIM            20\n",
            "ZN               0\n",
            "INDUS            0\n",
            "CHAS             0\n",
            "NOX              0\n",
            "RM               0\n",
            "AGE              0\n",
            "DIS              0\n",
            "RAD              0\n",
            "TAX              0\n",
            "PTRATIO          0\n",
            "B                0\n",
            "LSTAT            0\n",
            "MEDV             0\n",
            "isHightValue     0\n",
            "dtype: int64\n"
          ]
        }
      ]
    },
    {
      "cell_type": "code",
      "source": [
        "print(data.isnull().sum()/data.shape[0])"
      ],
      "metadata": {
        "colab": {
          "base_uri": "https://localhost:8080/"
        },
        "id": "YSPZVH5WemCb",
        "outputId": "cf4b8d64-611e-4c95-a3b0-4219724314b6"
      },
      "execution_count": null,
      "outputs": [
        {
          "output_type": "stream",
          "name": "stdout",
          "text": [
            "CRIM            0.038023\n",
            "ZN              0.000000\n",
            "INDUS           0.000000\n",
            "CHAS            0.000000\n",
            "NOX             0.000000\n",
            "RM              0.000000\n",
            "AGE             0.000000\n",
            "DIS             0.000000\n",
            "RAD             0.000000\n",
            "TAX             0.000000\n",
            "PTRATIO         0.000000\n",
            "B               0.000000\n",
            "LSTAT           0.000000\n",
            "MEDV            0.000000\n",
            "isHightValue    0.000000\n",
            "dtype: float64\n"
          ]
        }
      ]
    },
    {
      "cell_type": "code",
      "source": [
        "# 결측치를 다른 값으로 대치할 경우\n",
        "data1 = data.copy()\n",
        "med_val = data['CRIM'].median()\n",
        "data1['CRIM'] = data1['CRIM'].fillna(med_val)"
      ],
      "metadata": {
        "id": "zSiiGdv-er2m"
      },
      "execution_count": null,
      "outputs": []
    },
    {
      "cell_type": "markdown",
      "source": [
        "- 결측치 제거"
      ],
      "metadata": {
        "id": "ysERlJqJfuYw"
      }
    },
    {
      "cell_type": "code",
      "source": [
        "data = data.loc[data['CRIM'].notnull(), ]\n",
        "print(data.describe())"
      ],
      "metadata": {
        "colab": {
          "base_uri": "https://localhost:8080/"
        },
        "id": "t5vIdbIPfBi4",
        "outputId": "e2227156-d6ba-423c-bf1e-6c51522635ca"
      },
      "execution_count": null,
      "outputs": [
        {
          "output_type": "stream",
          "name": "stdout",
          "text": [
            "             CRIM          ZN       INDUS        CHAS         NOX          RM  \\\n",
            "count  506.000000  506.000000  506.000000  506.000000  506.000000  506.000000   \n",
            "mean     3.613524   11.363636   11.136779    0.069170    0.554695    6.284634   \n",
            "std      8.601545   23.322453    6.860353    0.253994    0.115878    0.702617   \n",
            "min      0.006320    0.000000    0.460000    0.000000    0.385000    3.561000   \n",
            "25%      0.082045    0.000000    5.190000    0.000000    0.449000    5.885500   \n",
            "50%      0.256510    0.000000    9.690000    0.000000    0.538000    6.208500   \n",
            "75%      3.677083   12.500000   18.100000    0.000000    0.624000    6.623500   \n",
            "max     88.976200  100.000000   27.740000    1.000000    0.871000    8.780000   \n",
            "\n",
            "              AGE         DIS         RAD         TAX     PTRATIO           B  \\\n",
            "count  506.000000  506.000000  506.000000  506.000000  506.000000  506.000000   \n",
            "mean    68.574901    3.795043    9.549407  408.237154   18.455534  356.674032   \n",
            "std     28.148861    2.105710    8.707259  168.537116    2.164946   91.294864   \n",
            "min      2.900000    1.129600    1.000000  187.000000   12.600000    0.320000   \n",
            "25%     45.025000    2.100175    4.000000  279.000000   17.400000  375.377500   \n",
            "50%     77.500000    3.207450    5.000000  330.000000   19.050000  391.440000   \n",
            "75%     94.075000    5.188425   24.000000  666.000000   20.200000  396.225000   \n",
            "max    100.000000   12.126500   24.000000  711.000000   22.000000  396.900000   \n",
            "\n",
            "            LSTAT        MEDV  isHightValue  \n",
            "count  506.000000  506.000000    506.000000  \n",
            "mean    12.653063   22.532806      0.260870  \n",
            "std      7.141062    9.197104      0.439543  \n",
            "min      1.730000    5.000000      0.000000  \n",
            "25%      6.950000   17.025000      0.000000  \n",
            "50%     11.360000   21.200000      0.000000  \n",
            "75%     16.955000   25.000000      1.000000  \n",
            "max     37.970000   50.000000      1.000000  \n"
          ]
        }
      ]
    },
    {
      "cell_type": "markdown",
      "source": [
        "- 이상치 처리"
      ],
      "metadata": {
        "id": "VymhzUT1fxpB"
      }
    },
    {
      "cell_type": "code",
      "source": [
        "import seaborn as sns\n",
        "\n",
        "sns.boxplot(data['MEDV'])"
      ],
      "metadata": {
        "colab": {
          "base_uri": "https://localhost:8080/",
          "height": 354
        },
        "id": "LKceuKijfbPB",
        "outputId": "ff9d6ab2-abe5-4efb-b5ff-abfcc07d465a"
      },
      "execution_count": null,
      "outputs": [
        {
          "output_type": "stream",
          "name": "stderr",
          "text": [
            "/usr/local/lib/python3.7/dist-packages/seaborn/_decorators.py:43: FutureWarning: Pass the following variable as a keyword arg: x. From version 0.12, the only valid positional argument will be `data`, and passing other arguments without an explicit keyword will result in an error or misinterpretation.\n",
            "  FutureWarning\n"
          ]
        },
        {
          "output_type": "execute_result",
          "data": {
            "text/plain": [
              "<matplotlib.axes._subplots.AxesSubplot at 0x7ff84fcde7d0>"
            ]
          },
          "metadata": {},
          "execution_count": 111
        },
        {
          "output_type": "display_data",
          "data": {
            "text/plain": [
              "<Figure size 432x288 with 1 Axes>"
            ],
            "image/png": "[encoded data removed]"
          },
          "metadata": {
            "needs_background": "light"
          }
        }
      ]
    },
    {
      "cell_type": "code",
      "source": [
        "3Q1, Q3 = data['MEDV'].quantile([0.25,0.75])\n",
        "IQR = Q3 - Q1\n",
        "upper_bound = Q3 + 1.5*IQR\n",
        "lower_bound = Q1 - 1.5*IQR\n",
        "\n",
        "print('outlier 범위 : %.2f 초과 또는 %.2f 미만' % (upper_bound, lower_bound))\n",
        "print('outlier 개수 : %.0f' % len(data[(data['MEDV']>upper_bound)|(data['MEDV']<lower_bound)]))\n",
        "print('outlier 비율 : %.2f' % (len(data[(data['MEDV']>upper_bound)|(data['MEDV']<lower_bound)])/len(data)))"
      ],
      "metadata": {
        "colab": {
          "base_uri": "https://localhost:8080/"
        },
        "id": "fU5CBgAxf5Lv",
        "outputId": "885d724e-3ce9-4408-d7ed-31ec51590ec7"
      },
      "execution_count": null,
      "outputs": [
        {
          "output_type": "stream",
          "name": "stdout",
          "text": [
            "outlier 범위 : 36.96 초과 또는 5.06 미만\n",
            "outlier 개수 : 40\n",
            "outlier 비율 : 0.08\n"
          ]
        }
      ]
    },
    {
      "cell_type": "code",
      "source": [
        "def get_outlier_prop(x):\n",
        "\n",
        "  Q1, Q3 = x.quantile([0.25,0.75])\n",
        "  IQR = Q3 - Q1\n",
        "  upper_bound = Q3 + 1.5*IQR\n",
        "  lower_bound = Q1 - 1.5*IQR\n",
        "  outliers = x[(x>upper_bound)|(x<lower_bound)]\n",
        "\n",
        "  return str(round(100*len(outliers)/len(x),1)) + '%'\n",
        "\n",
        "print(data.apply(get_outlier_prop))"
      ],
      "metadata": {
        "colab": {
          "base_uri": "https://localhost:8080/"
        },
        "id": "kKoAwHhfkIDA",
        "outputId": "0b7b7c3b-a2f0-46cd-caf0-fa1163a3cdcd"
      },
      "execution_count": null,
      "outputs": [
        {
          "output_type": "stream",
          "name": "stdout",
          "text": [
            "CRIM            13.0%\n",
            "ZN              13.4%\n",
            "INDUS            0.0%\n",
            "CHAS             6.9%\n",
            "NOX              0.0%\n",
            "RM               5.9%\n",
            "AGE              0.0%\n",
            "DIS              1.0%\n",
            "RAD              0.0%\n",
            "TAX              0.0%\n",
            "PTRATIO          3.0%\n",
            "B               15.2%\n",
            "LSTAT            1.4%\n",
            "MEDV             7.9%\n",
            "isHightValue     0.0%\n",
            "dtype: object\n"
          ]
        }
      ]
    },
    {
      "cell_type": "code",
      "source": [
        "# 예시1) IQR 값 기준으로 MEDV 변수의 이상치를 제거\n",
        "\n",
        "Q1, Q3 = data['MEDV'].quantile([0.25,0.75])\n",
        "IQR = Q3 - Q1\n",
        "upper_bound = Q3 + 1.5*IQR\n",
        "lower_bound = Q1 - 1.5*IQR\n",
        "\n",
        "data1 = data[(data['MEDV']<=upper_bound)&(data['MEDV']>=lower_bound)]\n",
        "data1.shape"
      ],
      "metadata": {
        "colab": {
          "base_uri": "https://localhost:8080/"
        },
        "id": "tOBlI0Hvlwiv",
        "outputId": "a2e3e360-0ac1-4789-a25e-0749fe6df70f"
      },
      "execution_count": null,
      "outputs": [
        {
          "output_type": "execute_result",
          "data": {
            "text/plain": [
              "(466, 15)"
            ]
          },
          "metadata": {},
          "execution_count": 114
        }
      ]
    },
    {
      "cell_type": "code",
      "source": [
        "# 예시2) MEDV 변수 값이 45 이상인 경우를 이상치로 보고 제거\n",
        "\n",
        "data2 = data[~(data['MEDV']>=45)]\n",
        "data2.shape"
      ],
      "metadata": {
        "colab": {
          "base_uri": "https://localhost:8080/"
        },
        "id": "U83gBDKCmaP3",
        "outputId": "7cc203fd-c4d5-4986-938a-e60d301580c0"
      },
      "execution_count": null,
      "outputs": [
        {
          "output_type": "execute_result",
          "data": {
            "text/plain": [
              "(484, 15)"
            ]
          },
          "metadata": {},
          "execution_count": 115
        }
      ]
    },
    {
      "cell_type": "markdown",
      "source": [
        "- 변수 변환"
      ],
      "metadata": {
        "id": "nRHkNxMKmszk"
      }
    },
    {
      "cell_type": "code",
      "source": [
        "import matplotlib.pyplot as plt\n",
        "import seaborn as sns\n",
        "\n",
        "cols = data.columns\n",
        "\n",
        "fig , axs = plt.subplots(ncols=5, nrows=3, figsize=(20,10))\n",
        "idx = 0 \n",
        "for _row in range(3):\n",
        "  for _col in range(5):\n",
        "    if idx < len(cols):\n",
        "      sns.distplot(data[cols[idx]], ax = axs[_row][_col])\n",
        "      idx += 1\n",
        "\n",
        "plt.tight_layout()"
      ],
      "metadata": {
        "colab": {
          "base_uri": "https://localhost:8080/",
          "height": 1000
        },
        "id": "tiweUTxVmqnH",
        "outputId": "760717c5-6040-4713-c554-0dbcc6fa08c0"
      },
      "execution_count": null,
      "outputs": [
        {
          "output_type": "stream",
          "name": "stderr",
          "text": [
            "/usr/local/lib/python3.7/dist-packages/seaborn/distributions.py:2619: FutureWarning: `distplot` is a deprecated function and will be removed in a future version. Please adapt your code to use either `displot` (a figure-level function with similar flexibility) or `histplot` (an axes-level function for histograms).\n",
            "  warnings.warn(msg, FutureWarning)\n",
            "/usr/local/lib/python3.7/dist-packages/seaborn/distributions.py:2619: FutureWarning: `distplot` is a deprecated function and will be removed in a future version. Please adapt your code to use either `displot` (a figure-level function with similar flexibility) or `histplot` (an axes-level function for histograms).\n",
            "  warnings.warn(msg, FutureWarning)\n",
            "/usr/local/lib/python3.7/dist-packages/seaborn/distributions.py:2619: FutureWarning: `distplot` is a deprecated function and will be removed in a future version. Please adapt your code to use either `displot` (a figure-level function with similar flexibility) or `histplot` (an axes-level function for histograms).\n",
            "  warnings.warn(msg, FutureWarning)\n",
            "/usr/local/lib/python3.7/dist-packages/seaborn/distributions.py:2619: FutureWarning: `distplot` is a deprecated function and will be removed in a future version. Please adapt your code to use either `displot` (a figure-level function with similar flexibility) or `histplot` (an axes-level function for histograms).\n",
            "  warnings.warn(msg, FutureWarning)\n",
            "/usr/local/lib/python3.7/dist-packages/seaborn/distributions.py:2619: FutureWarning: `distplot` is a deprecated function and will be removed in a future version. Please adapt your code to use either `displot` (a figure-level function with similar flexibility) or `histplot` (an axes-level function for histograms).\n",
            "  warnings.warn(msg, FutureWarning)\n",
            "/usr/local/lib/python3.7/dist-packages/seaborn/distributions.py:2619: FutureWarning: `distplot` is a deprecated function and will be removed in a future version. Please adapt your code to use either `displot` (a figure-level function with similar flexibility) or `histplot` (an axes-level function for histograms).\n",
            "  warnings.warn(msg, FutureWarning)\n",
            "/usr/local/lib/python3.7/dist-packages/seaborn/distributions.py:2619: FutureWarning: `distplot` is a deprecated function and will be removed in a future version. Please adapt your code to use either `displot` (a figure-level function with similar flexibility) or `histplot` (an axes-level function for histograms).\n",
            "  warnings.warn(msg, FutureWarning)\n",
            "/usr/local/lib/python3.7/dist-packages/seaborn/distributions.py:2619: FutureWarning: `distplot` is a deprecated function and will be removed in a future version. Please adapt your code to use either `displot` (a figure-level function with similar flexibility) or `histplot` (an axes-level function for histograms).\n",
            "  warnings.warn(msg, FutureWarning)\n",
            "/usr/local/lib/python3.7/dist-packages/seaborn/distributions.py:2619: FutureWarning: `distplot` is a deprecated function and will be removed in a future version. Please adapt your code to use either `displot` (a figure-level function with similar flexibility) or `histplot` (an axes-level function for histograms).\n",
            "  warnings.warn(msg, FutureWarning)\n",
            "/usr/local/lib/python3.7/dist-packages/seaborn/distributions.py:2619: FutureWarning: `distplot` is a deprecated function and will be removed in a future version. Please adapt your code to use either `displot` (a figure-level function with similar flexibility) or `histplot` (an axes-level function for histograms).\n",
            "  warnings.warn(msg, FutureWarning)\n",
            "/usr/local/lib/python3.7/dist-packages/seaborn/distributions.py:2619: FutureWarning: `distplot` is a deprecated function and will be removed in a future version. Please adapt your code to use either `displot` (a figure-level function with similar flexibility) or `histplot` (an axes-level function for histograms).\n",
            "  warnings.warn(msg, FutureWarning)\n",
            "/usr/local/lib/python3.7/dist-packages/seaborn/distributions.py:2619: FutureWarning: `distplot` is a deprecated function and will be removed in a future version. Please adapt your code to use either `displot` (a figure-level function with similar flexibility) or `histplot` (an axes-level function for histograms).\n",
            "  warnings.warn(msg, FutureWarning)\n",
            "/usr/local/lib/python3.7/dist-packages/seaborn/distributions.py:2619: FutureWarning: `distplot` is a deprecated function and will be removed in a future version. Please adapt your code to use either `displot` (a figure-level function with similar flexibility) or `histplot` (an axes-level function for histograms).\n",
            "  warnings.warn(msg, FutureWarning)\n",
            "/usr/local/lib/python3.7/dist-packages/seaborn/distributions.py:2619: FutureWarning: `distplot` is a deprecated function and will be removed in a future version. Please adapt your code to use either `displot` (a figure-level function with similar flexibility) or `histplot` (an axes-level function for histograms).\n",
            "  warnings.warn(msg, FutureWarning)\n",
            "/usr/local/lib/python3.7/dist-packages/seaborn/distributions.py:2619: FutureWarning: `distplot` is a deprecated function and will be removed in a future version. Please adapt your code to use either `displot` (a figure-level function with similar flexibility) or `histplot` (an axes-level function for histograms).\n",
            "  warnings.warn(msg, FutureWarning)\n"
          ]
        },
        {
          "output_type": "display_data",
          "data": {
            "text/plain": [
              "<Figure size 1440x720 with 15 Axes>"
            ],
            "image/png": "[encoded data removed]"
          },
          "metadata": {
            "needs_background": "light"
          }
        }
      ]
    },
    {
      "cell_type": "code",
      "source": [
        "print(data.apply(lambda x: x.skew(), axis=0))"
      ],
      "metadata": {
        "colab": {
          "base_uri": "https://localhost:8080/"
        },
        "id": "IhcnN-IwnTMb",
        "outputId": "47cc1d3c-7e74-47eb-abbf-6ceefdae50b4"
      },
      "execution_count": null,
      "outputs": [
        {
          "output_type": "stream",
          "name": "stdout",
          "text": [
            "CRIM            5.223149\n",
            "ZN              2.225666\n",
            "INDUS           0.295022\n",
            "CHAS            3.405904\n",
            "NOX             0.729308\n",
            "RM              0.403612\n",
            "AGE            -0.598963\n",
            "DIS             1.011781\n",
            "RAD             1.004815\n",
            "TAX             0.669956\n",
            "PTRATIO        -0.802325\n",
            "B              -2.890374\n",
            "LSTAT           0.906460\n",
            "MEDV            1.108098\n",
            "isHightValue    1.092403\n",
            "dtype: float64\n"
          ]
        }
      ]
    },
    {
      "cell_type": "code",
      "source": [
        "import numpy as np\n",
        "\n",
        "data['CRIM'] = np.log1p(data['CRIM'])\n",
        "print(data['CRIM'].skew())"
      ],
      "metadata": {
        "colab": {
          "base_uri": "https://localhost:8080/"
        },
        "id": "ZN4fOWtpskdA",
        "outputId": "c8b4d33f-c8fe-4428-c49a-d638b94bde01"
      },
      "execution_count": null,
      "outputs": [
        {
          "output_type": "stream",
          "name": "stdout",
          "text": [
            "1.2692005882725572\n"
          ]
        }
      ]
    },
    {
      "cell_type": "markdown",
      "source": [
        "3. 회귀 모댈링\n",
        "- 데이터 탐색"
      ],
      "metadata": {
        "id": "qiUFcpwJtl21"
      }
    },
    {
      "cell_type": "code",
      "source": [
        "df_r = data.drop(['isHightValue'], axis = 1)"
      ],
      "metadata": {
        "id": "kUdiKOh6s5Ue"
      },
      "execution_count": null,
      "outputs": []
    },
    {
      "cell_type": "code",
      "source": [
        "cols = ['MEDV','LSTAT','RM','CHAS','RAD','TAX']\n",
        "print(df_r[cols].corr())"
      ],
      "metadata": {
        "colab": {
          "base_uri": "https://localhost:8080/"
        },
        "id": "8HAUxyJFuZl7",
        "outputId": "9206ec24-1bdb-4613-e377-f5ff77ddff7e"
      },
      "execution_count": null,
      "outputs": [
        {
          "output_type": "stream",
          "name": "stdout",
          "text": [
            "           MEDV     LSTAT        RM      CHAS       RAD       TAX\n",
            "MEDV   1.000000 -0.737663  0.695360  0.175260 -0.381626 -0.468536\n",
            "LSTAT -0.737663  1.000000 -0.613808 -0.053929  0.488676  0.543993\n",
            "RM     0.695360 -0.613808  1.000000  0.091251 -0.209847 -0.292048\n",
            "CHAS   0.175260 -0.053929  0.091251  1.000000 -0.007368 -0.035587\n",
            "RAD   -0.381626  0.488676 -0.209847 -0.007368  1.000000  0.910228\n",
            "TAX   -0.468536  0.543993 -0.292048 -0.035587  0.910228  1.000000\n"
          ]
        }
      ]
    },
    {
      "cell_type": "markdown",
      "source": [
        "- 분석 모형 구축"
      ],
      "metadata": {
        "id": "i_UATeRnuznA"
      }
    },
    {
      "cell_type": "code",
      "source": [
        "from sklearn.model_selection import train_test_split\n",
        "X_cols = ['LSTAT','PTRATIO','TAX','AGE','NOX','INDUS','CRIM']\n",
        "\n",
        "X = df_r[X_cols].values\n",
        "y = df_r['MEDV'].values\n",
        "\n",
        "X_train_r, X_test_r, y_train_r, y_test_r = train_test_split(X,y, test_size=0.3, random_state=123)"
      ],
      "metadata": {
        "id": "1qbU2rQpuyaG"
      },
      "execution_count": null,
      "outputs": []
    },
    {
      "cell_type": "code",
      "source": [
        "# 데이터 스케일링\n",
        "\n",
        "from sklearn.preprocessing import MinMaxScaler\n",
        "\n",
        "scaler = MinMaxScaler()\n",
        "\n",
        "X_train_r_scaled = scaler.fit_transform(X_train_r)\n",
        "X_test_r_scaled = scaler.transform(X_test_r)"
      ],
      "metadata": {
        "id": "Q4O1T4Ehunaq"
      },
      "execution_count": null,
      "outputs": []
    },
    {
      "cell_type": "code",
      "source": [
        "# 모델 구축\n",
        "# 선형 회귀\n",
        "\n",
        "from sklearn.linear_model import LinearRegression\n",
        "\n",
        "model_lr = LinearRegression()\n",
        "model_lr.fit(X_train_r_scaled, y_train_r)"
      ],
      "metadata": {
        "colab": {
          "base_uri": "https://localhost:8080/"
        },
        "id": "Qo4lJ8ie71wh",
        "outputId": "bb340ce8-f4e8-4393-ff79-4088ae04dc46"
      },
      "execution_count": null,
      "outputs": [
        {
          "output_type": "execute_result",
          "data": {
            "text/plain": [
              "LinearRegression()"
            ]
          },
          "metadata": {},
          "execution_count": 123
        }
      ]
    },
    {
      "cell_type": "code",
      "source": [
        "print(model_lr.coef_)"
      ],
      "metadata": {
        "colab": {
          "base_uri": "https://localhost:8080/"
        },
        "id": "mU2Di9HJ8E-W",
        "outputId": "21b04e47-0b00-49eb-a80c-add1d0f183d9"
      },
      "execution_count": null,
      "outputs": [
        {
          "output_type": "stream",
          "name": "stdout",
          "text": [
            "[-32.51042803 -11.94191767  -3.84240793   5.58034429  -4.34593586\n",
            "   0.98706819   6.83941179]\n"
          ]
        }
      ]
    },
    {
      "cell_type": "code",
      "source": [
        "print(model_lr.intercept_)"
      ],
      "metadata": {
        "colab": {
          "base_uri": "https://localhost:8080/"
        },
        "id": "sOW4RgK98H81",
        "outputId": "c65058f8-51d3-418a-87f7-e1d474c808d5"
      },
      "execution_count": null,
      "outputs": [
        {
          "output_type": "stream",
          "name": "stdout",
          "text": [
            "38.03006298623824\n"
          ]
        }
      ]
    },
    {
      "cell_type": "code",
      "source": [
        "# svm\n",
        "\n",
        "from sklearn.svm import SVR\n",
        "\n",
        "model_svr = SVR()\n",
        "model_svr.fit(X_train_r_scaled, y_train_r)"
      ],
      "metadata": {
        "colab": {
          "base_uri": "https://localhost:8080/"
        },
        "id": "X6gonpJ38PQY",
        "outputId": "bfc3fde3-0d2c-4ebd-dcf9-62dfd0ebfbc9"
      },
      "execution_count": null,
      "outputs": [
        {
          "output_type": "execute_result",
          "data": {
            "text/plain": [
              "SVR()"
            ]
          },
          "metadata": {},
          "execution_count": 126
        }
      ]
    },
    {
      "cell_type": "code",
      "source": [
        "# random forest\n",
        "\n",
        "from sklearn.ensemble import RandomForestRegressor\n",
        "\n",
        "model_rfr = RandomForestRegressor()\n",
        "model_rfr.fit(X_train_r_scaled, y_train_r)"
      ],
      "metadata": {
        "colab": {
          "base_uri": "https://localhost:8080/"
        },
        "id": "zUgzb_Sm8bEY",
        "outputId": "0ad7fec7-ea21-449d-f3fb-8e2af9dc37cc"
      },
      "execution_count": null,
      "outputs": [
        {
          "output_type": "execute_result",
          "data": {
            "text/plain": [
              "RandomForestRegressor()"
            ]
          },
          "metadata": {},
          "execution_count": 127
        }
      ]
    },
    {
      "cell_type": "code",
      "source": [
        "for x, val in zip(X_cols, model_rfr.feature_importances_):\n",
        "  print(f'{x} : %.3f' %val)"
      ],
      "metadata": {
        "colab": {
          "base_uri": "https://localhost:8080/"
        },
        "id": "oes9d4Wj8tfT",
        "outputId": "cd0f1f4f-f248-4d63-aaaa-b6b2547f98b7"
      },
      "execution_count": null,
      "outputs": [
        {
          "output_type": "stream",
          "name": "stdout",
          "text": [
            "LSTAT : 0.713\n",
            "PTRATIO : 0.070\n",
            "TAX : 0.041\n",
            "AGE : 0.041\n",
            "NOX : 0.057\n",
            "INDUS : 0.014\n",
            "CRIM : 0.065\n"
          ]
        }
      ]
    },
    {
      "cell_type": "markdown",
      "source": [
        "- 분석 모형 평가"
      ],
      "metadata": {
        "id": "Z9u8MxQx-M9-"
      }
    },
    {
      "cell_type": "code",
      "source": [
        "y_pred_lr = model_lr.predict(X_test_r_scaled)\n",
        "y_pred_svr = model_svr.predict(X_test_r_scaled)\n",
        "y_pred_rfr = model_rfr.predict(X_test_r_scaled)"
      ],
      "metadata": {
        "id": "b9LAzYPg9W8D"
      },
      "execution_count": null,
      "outputs": []
    },
    {
      "cell_type": "code",
      "source": [
        "from sklearn.metrics import mean_absolute_error, mean_squared_error, mean_absolute_percentage_error\n",
        "\n",
        "print('-'*30)\n",
        "print('선형 회귀 결과')\n",
        "print('MAE : %.3f' %mean_absolute_error(y_test_r, y_pred_lr))\n",
        "print('MSE : %.3f' %mean_squared_error(y_test_r, y_pred_lr))\n",
        "print('MAPE : %.3f' %mean_absolute_percentage_error(y_test_r, y_pred_lr))\n",
        "print('-'*30)\n",
        "print('SVM 결과')\n",
        "print('MAE : %.3f' %mean_absolute_error(y_test_r, y_pred_svr))\n",
        "print('MSE : %.3f' %mean_squared_error(y_test_r, y_pred_svr))\n",
        "print('MAPE : %.3f' %mean_absolute_percentage_error(y_test_r, y_pred_svr))\n",
        "print('-'*30)\n",
        "print('랜덤포레스트 결과')\n",
        "print('MAE : %.3f' %mean_absolute_error(y_test_r, y_pred_rfr))\n",
        "print('MSE : %.3f' %mean_squared_error(y_test_r, y_pred_rfr))\n",
        "print('MAPE : %.3f' %mean_absolute_percentage_error(y_test_r, y_pred_rfr))"
      ],
      "metadata": {
        "id": "JUGtYdDr-fdr",
        "colab": {
          "base_uri": "https://localhost:8080/"
        },
        "outputId": "3dda2df3-b1a8-44ed-dc1c-13044cab9df6"
      },
      "execution_count": null,
      "outputs": [
        {
          "output_type": "stream",
          "name": "stdout",
          "text": [
            "------------------------------\n",
            "선형 회귀 결과\n",
            "MAE : 4.408\n",
            "MSE : 34.861\n",
            "MAPE : 0.223\n",
            "------------------------------\n",
            "SVM 결과\n",
            "MAE : 3.846\n",
            "MSE : 36.890\n",
            "MAPE : 0.170\n",
            "------------------------------\n",
            "랜덤포레스트 결과\n",
            "MAE : 2.936\n",
            "MSE : 17.089\n",
            "MAPE : 0.145\n"
          ]
        }
      ]
    },
    {
      "cell_type": "markdown",
      "source": [
        "4. 분류 모델링\n",
        "- 데이터 탐색"
      ],
      "metadata": {
        "id": "4aPaMfkVaJxW"
      }
    },
    {
      "cell_type": "code",
      "source": [
        "df_c = data.drop(['MEDV'],axis=1)"
      ],
      "metadata": {
        "id": "ZzQr1ZnOZ01v"
      },
      "execution_count": null,
      "outputs": []
    },
    {
      "cell_type": "code",
      "source": [
        "import seaborn as sns\n",
        "\n",
        "sns.boxplot(x='isHightValue',y='LSTAT',data=df_c)"
      ],
      "metadata": {
        "colab": {
          "base_uri": "https://localhost:8080/",
          "height": 297
        },
        "id": "5YSVJGVXae4O",
        "outputId": "0a63075b-441e-4cf5-b3cb-e482b45dd53c"
      },
      "execution_count": null,
      "outputs": [
        {
          "output_type": "execute_result",
          "data": {
            "text/plain": [
              "<matplotlib.axes._subplots.AxesSubplot at 0x7ff858260450>"
            ]
          },
          "metadata": {},
          "execution_count": 132
        },
        {
          "output_type": "display_data",
          "data": {
            "text/plain": [
              "<Figure size 432x288 with 1 Axes>"
            ],
            "image/png": "[encoded data removed]"
          },
          "metadata": {
            "needs_background": "light"
          }
        }
      ]
    },
    {
      "cell_type": "code",
      "source": [
        "import seaborn as sns\n",
        "\n",
        "sns.kdeplot(df_c.loc[df_c['isHightValue']==1, 'LSTAT'], color='orange',fill=True)\n",
        "sns.kdeplot(df_c.loc[df_c['isHightValue']==0, 'LSTAT'], color='blue',fill=True)"
      ],
      "metadata": {
        "colab": {
          "base_uri": "https://localhost:8080/",
          "height": 297
        },
        "id": "p6b7Z0SRcgnE",
        "outputId": "a1fbc238-0fd5-428a-ce13-25a07abf58aa"
      },
      "execution_count": null,
      "outputs": [
        {
          "output_type": "execute_result",
          "data": {
            "text/plain": [
              "<matplotlib.axes._subplots.AxesSubplot at 0x7ff851b9c450>"
            ]
          },
          "metadata": {},
          "execution_count": 133
        },
        {
          "output_type": "display_data",
          "data": {
            "text/plain": [
              "<Figure size 432x288 with 1 Axes>"
            ],
            "image/png": "[encoded data removed]"
          },
          "metadata": {
            "needs_background": "light"
          }
        }
      ]
    },
    {
      "cell_type": "code",
      "source": [
        "import numpy as np\n",
        "\n",
        "print(df_c.groupby('isHightValue').apply(np.mean).T)"
      ],
      "metadata": {
        "colab": {
          "base_uri": "https://localhost:8080/"
        },
        "id": "7fTv4CAZdDLE",
        "outputId": "b4c75146-1dc4-4058-894c-ed272e174238"
      },
      "execution_count": null,
      "outputs": [
        {
          "output_type": "stream",
          "name": "stdout",
          "text": [
            "isHightValue           0           1\n",
            "CRIM            0.975497    0.354194\n",
            "ZN              6.691176   24.602273\n",
            "INDUS          12.777353    6.488485\n",
            "CHAS            0.050802    0.121212\n",
            "NOX             0.575957    0.494454\n",
            "RM              6.028837    7.009394\n",
            "AGE            73.275134   55.257576\n",
            "DIS             3.593655    4.365642\n",
            "RAD            10.729947    6.204545\n",
            "TAX           440.788770  316.007576\n",
            "PTRATIO        18.994920   16.927273\n",
            "B             346.706738  384.914697\n",
            "LSTAT          14.949652    6.146061\n",
            "isHightValue    0.000000    1.000000\n"
          ]
        }
      ]
    },
    {
      "cell_type": "markdown",
      "source": [
        "- 분석 모형 구축"
      ],
      "metadata": {
        "id": "4eDiC_aNesb4"
      }
    },
    {
      "cell_type": "code",
      "source": [
        "# 데이터 분할\n",
        "\n",
        "from sklearn.model_selection import train_test_split\n",
        "\n",
        "X_cols = ['LSTAT','PTRATIO','TAX','AGE','NOX','INDUS','CRIM']\n",
        "\n",
        "X = data[X_cols].values\n",
        "y = data['isHightValue'].values\n",
        "\n",
        "X_train_c, X_test_c, y_train_c, y_test_c = train_test_split(X,y,test_size=0.3,random_state=123)"
      ],
      "metadata": {
        "id": "wZr6RUQ2dSEb"
      },
      "execution_count": null,
      "outputs": []
    },
    {
      "cell_type": "code",
      "source": [
        "# 데이터 스케일링\n",
        "\n",
        "from sklearn.preprocessing import MinMaxScaler\n",
        "\n",
        "scaler = MinMaxScaler()\n",
        "\n",
        "X_train_c_scaled = scaler.fit_transform(X_train_c)\n",
        "X_test_c_scaled = scaler.fit_transform(X_test_c)"
      ],
      "metadata": {
        "id": "fq4kc4F8fTsm"
      },
      "execution_count": null,
      "outputs": []
    },
    {
      "cell_type": "markdown",
      "source": [
        "- 모델 구축"
      ],
      "metadata": {
        "id": "z_x-WuXxkCNS"
      }
    },
    {
      "cell_type": "code",
      "source": [
        "# 로지스틱 회귀\n",
        "\n",
        "from sklearn.linear_model import LogisticRegression\n",
        "\n",
        "model_lo = LogisticRegression()\n",
        "model_lo.fit(X_train_c_scaled, y_train_c)"
      ],
      "metadata": {
        "colab": {
          "base_uri": "https://localhost:8080/"
        },
        "id": "TrpDuNo4iIcv",
        "outputId": "c74fa396-850a-41a3-f0d0-93b3c23ad4ad"
      },
      "execution_count": null,
      "outputs": [
        {
          "output_type": "execute_result",
          "data": {
            "text/plain": [
              "LogisticRegression()"
            ]
          },
          "metadata": {},
          "execution_count": 137
        }
      ]
    },
    {
      "cell_type": "code",
      "source": [
        "print(model_lo.coef_)"
      ],
      "metadata": {
        "colab": {
          "base_uri": "https://localhost:8080/"
        },
        "id": "E0kxf8MtliKc",
        "outputId": "cc21f1a3-77b0-4c02-db63-e2e3d5d20562"
      },
      "execution_count": null,
      "outputs": [
        {
          "output_type": "stream",
          "name": "stdout",
          "text": [
            "[[-4.67917856 -2.26271976 -0.80852617  0.45926521 -0.32914015 -1.36930599\n",
            "   0.86834454]]\n"
          ]
        }
      ]
    },
    {
      "cell_type": "code",
      "source": [
        "print(model_lo.intercept_)"
      ],
      "metadata": {
        "colab": {
          "base_uri": "https://localhost:8080/"
        },
        "id": "rxenHslvmLpY",
        "outputId": "791e55ba-5e86-4e70-82c5-3da9956f1744"
      },
      "execution_count": null,
      "outputs": [
        {
          "output_type": "stream",
          "name": "stdout",
          "text": [
            "[1.90334599]\n"
          ]
        }
      ]
    },
    {
      "cell_type": "code",
      "source": [
        "# svm\n",
        "\n",
        "from sklearn.svm import SVC\n",
        "\n",
        "model_svc = SVC(probability=True)\n",
        "model_svc.fit(X_train_c_scaled, y_train_c)"
      ],
      "metadata": {
        "colab": {
          "base_uri": "https://localhost:8080/"
        },
        "id": "7olpU7gYmPMk",
        "outputId": "c177b5ff-1824-4a85-c92f-e88479412380"
      },
      "execution_count": null,
      "outputs": [
        {
          "output_type": "execute_result",
          "data": {
            "text/plain": [
              "SVC(probability=True)"
            ]
          },
          "metadata": {},
          "execution_count": 149
        }
      ]
    },
    {
      "cell_type": "code",
      "source": [
        "# randomforest\n",
        "\n",
        "from sklearn.ensemble import RandomForestClassifier\n",
        "\n",
        "model_rfc = RandomForestClassifier(random_state=123)\n",
        "model_rfc.fit(X_train_c_scaled, y_train_c)"
      ],
      "metadata": {
        "colab": {
          "base_uri": "https://localhost:8080/"
        },
        "id": "jK2CvyASm4Wd",
        "outputId": "e4973a34-d01e-498e-eaa0-d13400ab481a"
      },
      "execution_count": null,
      "outputs": [
        {
          "output_type": "execute_result",
          "data": {
            "text/plain": [
              "RandomForestClassifier(random_state=123)"
            ]
          },
          "metadata": {},
          "execution_count": 150
        }
      ]
    },
    {
      "cell_type": "code",
      "source": [
        "for x, val in zip(X_cols, model_rfc.feature_importances_):\n",
        "  print(f'{x} : %.3f'%val)"
      ],
      "metadata": {
        "colab": {
          "base_uri": "https://localhost:8080/"
        },
        "id": "7oD3cMRJnawi",
        "outputId": "855068a0-b0e8-4dc7-83fe-0797d302ee0c"
      },
      "execution_count": null,
      "outputs": [
        {
          "output_type": "stream",
          "name": "stdout",
          "text": [
            "LSTAT : 0.378\n",
            "PTRATIO : 0.105\n",
            "TAX : 0.112\n",
            "AGE : 0.087\n",
            "NOX : 0.080\n",
            "INDUS : 0.134\n",
            "CRIM : 0.104\n"
          ]
        }
      ]
    },
    {
      "cell_type": "markdown",
      "source": [
        "- 분석 모형 평가"
      ],
      "metadata": {
        "id": "HGZrB8dqpKl3"
      }
    },
    {
      "cell_type": "code",
      "source": [
        "y_pred_lo = model_lo.predict(X_test_c_scaled)\n",
        "y_pred_svc = model_svc.predict(X_test_c_scaled)\n",
        "y_pred_rfc = model_rfc.predict(X_test_c_scaled)"
      ],
      "metadata": {
        "id": "H8IMivsZokqG"
      },
      "execution_count": null,
      "outputs": []
    },
    {
      "cell_type": "code",
      "source": [
        "from sklearn.metrics import classification_report\n",
        "\n",
        "print('-'*60)\n",
        "print('로지스틱 회귀 결과')\n",
        "print(classification_report(y_test_c, y_pred_lo, labels=[0,1]))\n",
        "print('-'*60)\n",
        "print('SVM 결과')\n",
        "print(classification_report(y_test_c, y_pred_svc, labels=[0,1]))\n",
        "print('-'*60)\n",
        "print('Randomforest 결과')\n",
        "print(classification_report(y_test_c, y_pred_rfc, labels=[0,1]))"
      ],
      "metadata": {
        "colab": {
          "base_uri": "https://localhost:8080/"
        },
        "id": "2qxIK0VNqXZv",
        "outputId": "d78b4509-b1ec-4a4e-8378-a75e08805445"
      },
      "execution_count": null,
      "outputs": [
        {
          "output_type": "stream",
          "name": "stdout",
          "text": [
            "------------------------------------------------------------\n",
            "로지스틱 회귀 결과\n",
            "              precision    recall  f1-score   support\n",
            "\n",
            "           0       0.88      0.97      0.92       115\n",
            "           1       0.88      0.57      0.69        37\n",
            "\n",
            "    accuracy                           0.88       152\n",
            "   macro avg       0.88      0.77      0.81       152\n",
            "weighted avg       0.88      0.88      0.87       152\n",
            "\n",
            "------------------------------------------------------------\n",
            "SVM 결과\n",
            "              precision    recall  f1-score   support\n",
            "\n",
            "           0       0.91      0.96      0.93       115\n",
            "           1       0.84      0.70      0.76        37\n",
            "\n",
            "    accuracy                           0.89       152\n",
            "   macro avg       0.87      0.83      0.85       152\n",
            "weighted avg       0.89      0.89      0.89       152\n",
            "\n",
            "------------------------------------------------------------\n",
            "Randomforest 결과\n",
            "              precision    recall  f1-score   support\n",
            "\n",
            "           0       0.94      0.95      0.94       115\n",
            "           1       0.83      0.81      0.82        37\n",
            "\n",
            "    accuracy                           0.91       152\n",
            "   macro avg       0.89      0.88      0.88       152\n",
            "weighted avg       0.91      0.91      0.91       152\n",
            "\n"
          ]
        }
      ]
    },
    {
      "cell_type": "code",
      "source": [
        "from sklearn.metrics import roc_auc_score\n",
        "\n",
        "y_pred_lo = model_lo.predict_proba(X_test_c_scaled)[:, 1]\n",
        "y_pred_svc = model_svc.predict_proba(X_test_c_scaled)[:, 1]\n",
        "y_pred_rfc = model_rfc.predict_proba(X_test_c_scaled)[:, 1]\n",
        "\n",
        "print('로지스틱 회귀 결과: %.3f' %roc_auc_score(y_test_c, y_pred_lo))\n",
        "print('SVM 결과: %.3f' %roc_auc_score(y_test_c, y_pred_svc))\n",
        "print('랜덤포레스트 결과: %.3f' %roc_auc_score(y_test_c, y_pred_rfc))"
      ],
      "metadata": {
        "colab": {
          "base_uri": "https://localhost:8080/"
        },
        "id": "tBwFYtDYyqdq",
        "outputId": "492cb3b9-43c7-4e99-a3be-9d4a039e791f"
      },
      "execution_count": null,
      "outputs": [
        {
          "output_type": "stream",
          "name": "stdout",
          "text": [
            "로지스틱 회귀 결과: 0.914\n",
            "SVM 결과: 0.936\n",
            "랜덤포레스트 결과: 0.959\n"
          ]
        }
      ]
    },
    {
      "cell_type": "code",
      "source": [
        ""
      ],
      "metadata": {
        "id": "U04kOqHgzLJC"
      },
      "execution_count": null,
      "outputs": []
    }
  ]
}