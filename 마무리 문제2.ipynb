{
 "cells": [
  {
   "cell_type": "markdown",
   "id": "8b88fcc2",
   "metadata": {},
   "source": [
    "2. 작업형 제2유형"
   ]
  },
  {
   "cell_type": "code",
   "execution_count": 1,
   "id": "364b3309",
   "metadata": {},
   "outputs": [
    {
     "name": "stderr",
     "output_type": "stream",
     "text": [
      "fatal: destination path 'yemoonsaBigdata' already exists and is not an empty directory.\n"
     ]
    }
   ],
   "source": [
    "!git clone https://github.com/AnalyticsKnight/yemoonsaBigdata/"
   ]
  },
  {
   "cell_type": "code",
   "execution_count": 2,
   "id": "f3e8c84e",
   "metadata": {},
   "outputs": [],
   "source": [
    "import numpy as np\n",
    "import pandas as pd\n",
    "X_train = pd.read_csv('./yemoonsaBigdata/datasets/Part2/stellar_X_train.csv')\n",
    "X_test = pd.read_csv('./yemoonsaBigdata/datasets/Part2/stellar_X_test.csv')\n",
    "y_train = pd.read_csv('./yemoonsaBigdata/datasets/Part2/stellar_y_train.csv')"
   ]
  },
  {
   "cell_type": "code",
   "execution_count": 3,
   "id": "001ec381",
   "metadata": {},
   "outputs": [
    {
     "name": "stdout",
     "output_type": "stream",
     "text": [
      "<class 'pandas.core.frame.DataFrame'>\n",
      "RangeIndex: 70000 entries, 0 to 69999\n",
      "Data columns (total 13 columns):\n",
      " #   Column    Non-Null Count  Dtype  \n",
      "---  ------    --------------  -----  \n",
      " 0   alpha     70000 non-null  float64\n",
      " 1   delta     70000 non-null  float64\n",
      " 2   u         70000 non-null  float64\n",
      " 3   g         70000 non-null  float64\n",
      " 4   r         70000 non-null  float64\n",
      " 5   i         70000 non-null  float64\n",
      " 6   z         70000 non-null  float64\n",
      " 7   redshift  70000 non-null  float64\n",
      " 8   run_ID    70000 non-null  int64  \n",
      " 9   rerun_ID  70000 non-null  int64  \n",
      " 10  cam_col   70000 non-null  int64  \n",
      " 11  field_ID  70000 non-null  int64  \n",
      " 12  plate     70000 non-null  int64  \n",
      "dtypes: float64(8), int64(5)\n",
      "memory usage: 6.9 MB\n",
      "None\n"
     ]
    }
   ],
   "source": [
    "print(X_train.info())"
   ]
  },
  {
   "cell_type": "code",
   "execution_count": 4,
   "id": "56050828",
   "metadata": {},
   "outputs": [
    {
     "name": "stdout",
     "output_type": "stream",
     "text": [
      "              alpha         delta             u             g             r  \\\n",
      "count  70000.000000  70000.000000  70000.000000  70000.000000  70000.000000   \n",
      "mean     177.535809     24.107885     21.938806     20.486718     19.644011   \n",
      "std       96.483093     19.665057     37.942814     37.925201      1.852053   \n",
      "min        0.005528    -18.785328  -9999.000000  -9999.000000      9.822070   \n",
      "25%      127.385304      5.115922     20.349987     18.957325     18.136183   \n",
      "50%      180.706865     23.579507     22.183860     21.095445     20.122805   \n",
      "75%      233.942154     39.871336     23.684145     22.121073     21.039012   \n",
      "max      359.999615     82.947622     32.781390     31.602240     29.571860   \n",
      "\n",
      "                  i             z      redshift        run_ID  rerun_ID  \\\n",
      "count  70000.000000  70000.000000  70000.000000  70000.000000   70000.0   \n",
      "mean      19.082969     18.624590      0.575246   4478.649443     301.0   \n",
      "std        1.755997     37.904705      0.729921   1965.326847       0.0   \n",
      "min        9.469903  -9999.000000     -0.009971    109.000000     301.0   \n",
      "25%       17.733732     17.463838      0.052602   3185.000000     301.0   \n",
      "50%       19.399590     19.001010      0.422838   4188.000000     301.0   \n",
      "75%       20.391340     19.917578      0.700399   5326.000000     301.0   \n",
      "max       32.141470     28.790550      7.011245   8162.000000     301.0   \n",
      "\n",
      "            cam_col      field_ID         plate  \n",
      "count  70000.000000  70000.000000  70000.000000  \n",
      "mean       3.510500    186.045714   5127.852900  \n",
      "std        1.585203    148.661268   2947.452991  \n",
      "min        1.000000     11.000000    266.000000  \n",
      "25%        2.000000     82.000000   2525.750000  \n",
      "50%        4.000000    146.000000   4978.000000  \n",
      "75%        5.000000    241.000000   7389.000000  \n",
      "max        6.000000    989.000000  12547.000000  \n"
     ]
    }
   ],
   "source": [
    "print(X_train.describe())"
   ]
  },
  {
   "cell_type": "code",
   "execution_count": 5,
   "id": "69d6557c",
   "metadata": {},
   "outputs": [],
   "source": [
    "# 이상치 제거\n",
    "y_train = y_train.loc[X_train.u != -9999]\n",
    "X_train = X_train.loc[X_train.u != -9999]\n",
    "\n",
    "X_train.reset_index(drop=True, inplace=True)\n",
    "y_train.reset_index(drop=True, inplace=True)"
   ]
  },
  {
   "cell_type": "code",
   "execution_count": 6,
   "id": "9f6010fc",
   "metadata": {},
   "outputs": [
    {
     "name": "stdout",
     "output_type": "stream",
     "text": [
      "              alpha         delta             u             g             r  \\\n",
      "count  69999.000000  69999.000000  69999.000000  69999.000000  69999.000000   \n",
      "mean     177.535145     24.108238     22.081964     20.629856     19.644032   \n",
      "std       96.483622     19.664976      2.248554      2.033576      1.852057   \n",
      "min        0.005528    -18.785328     10.996230     10.498200      9.822070   \n",
      "25%      127.384192      5.117238     20.350000     18.957435     18.136075   \n",
      "50%      180.705886     23.580630     22.183900     21.095450     20.122810   \n",
      "75%      233.942330     39.872079     23.684160     22.121075     21.039035   \n",
      "max      359.999615     82.947622     32.781390     31.602240     29.571860   \n",
      "\n",
      "                  i             z      redshift        run_ID  rerun_ID  \\\n",
      "count  69999.000000  69999.000000  69999.000000  69999.000000   69999.0   \n",
      "mean      19.082984     18.767701      0.575254   4478.702681     301.0   \n",
      "std        1.756005      1.764734      0.729923   1965.290408       0.0   \n",
      "min        9.469903      9.612333     -0.009971    109.000000     301.0   \n",
      "25%       17.733685     17.463885      0.052608   3185.000000     301.0   \n",
      "50%       19.399590     19.001020      0.422848   4188.000000     301.0   \n",
      "75%       20.391350     19.917595      0.700399   5326.000000     301.0   \n",
      "max       32.141470     28.790550      7.011245   8162.000000     301.0   \n",
      "\n",
      "            cam_col      field_ID         plate  \n",
      "count  69999.000000  69999.000000  69999.000000  \n",
      "mean       3.510522    186.040701   5127.878813  \n",
      "std        1.585204    148.656411   2947.466071  \n",
      "min        1.000000     11.000000    266.000000  \n",
      "25%        2.000000     82.000000   2525.500000  \n",
      "50%        4.000000    146.000000   4978.000000  \n",
      "75%        5.000000    241.000000   7389.000000  \n",
      "max        6.000000    989.000000  12547.000000  \n"
     ]
    }
   ],
   "source": [
    "print(X_train.describe())"
   ]
  },
  {
   "cell_type": "code",
   "execution_count": 7,
   "id": "9aaed1fe",
   "metadata": {},
   "outputs": [
    {
     "name": "stdout",
     "output_type": "stream",
     "text": [
      "0.90    1.566266\n",
      "0.91    1.675948\n",
      "0.92    1.786824\n",
      "0.93    1.910857\n",
      "0.94    2.041589\n",
      "0.95    2.186017\n",
      "0.96    2.323494\n",
      "0.97    2.485796\n",
      "0.98    2.713839\n",
      "0.99    3.116165\n",
      "1.00    7.011245\n",
      "Name: redshift, dtype: float64\n"
     ]
    }
   ],
   "source": [
    "print(X_train['redshift'].quantile([q/100 for q in range(90,101)]))\n",
    "# 약 2%만이 3을 넘음"
   ]
  },
  {
   "cell_type": "code",
   "execution_count": 8,
   "id": "a7d0eeba",
   "metadata": {},
   "outputs": [],
   "source": [
    "# 파생 변수 추가\n",
    "X_train['redshift_upper3'] = np.where(X_train['redshift'] > 3,1,0)\n",
    "X_test['redshift_upper3'] = np.where(X_test['redshift'] > 3,1,0)"
   ]
  },
  {
   "cell_type": "code",
   "execution_count": 9,
   "id": "6e149128",
   "metadata": {},
   "outputs": [],
   "source": [
    "col_del = []\n",
    "col_num = ['alpha','delta','u','g','r','i','z','redshift']\n",
    "col_cat = ['run_ID','rerun_ID','cam_col','field_ID','plate', 'redshift_upper3']\n",
    "col_y = ['galaxy']\n",
    "\n",
    "X_train[col_cat] = X_train[col_cat].astype(str)\n",
    "X_test[col_cat] = X_test[col_cat].astype(str)\n",
    "\n",
    "X_train = X_train.drop(col_del, axis=1)\n",
    "X_test = X_test.drop(col_del, axis=1)"
   ]
  },
  {
   "cell_type": "code",
   "execution_count": 10,
   "id": "42c7a3a6",
   "metadata": {},
   "outputs": [
    {
     "name": "stdout",
     "output_type": "stream",
     "text": [
      "--------------------------------------------------------------------------------\n",
      "alpha\n",
      "          count        mean        std       min         25%         50%  \\\n",
      "galaxy                                                                     \n",
      "0       28433.0  177.234737  99.202036  0.010959  120.997187  180.253146   \n",
      "1       41566.0  177.740638  94.579769  0.005528  131.392267  181.032298   \n",
      "\n",
      "               75%         max  \n",
      "galaxy                          \n",
      "0       239.025694  359.999615  \n",
      "1       231.397544  359.989386  \n",
      "\n",
      "--------------------------------------------------------------------------------\n",
      "delta\n",
      "          count       mean        std        min       25%        50%  \\\n",
      "galaxy                                                                  \n",
      "0       28433.0  25.067356  20.141007 -18.785328  5.060842  26.372836   \n",
      "1       41566.0  23.452158  19.305416 -12.364701  5.136824  22.255904   \n",
      "\n",
      "              75%        max  \n",
      "galaxy                        \n",
      "0       41.762988  82.947622  \n",
      "1       37.855667  77.615588  \n",
      "\n",
      "--------------------------------------------------------------------------------\n",
      "u\n",
      "          count      mean       std       min        25%        50%  \\\n",
      "galaxy                                                                \n",
      "0       28433.0  21.34313  2.010059  10.99623  19.987270  21.355940   \n",
      "1       41566.0  22.58736  2.263188  13.89799  20.786442  22.847385   \n",
      "\n",
      "              75%       max  \n",
      "galaxy                       \n",
      "0       22.548860  32.78139  \n",
      "1       24.207522  29.32565  \n",
      "\n",
      "--------------------------------------------------------------------------------\n",
      "g\n",
      "          count       mean       std       min       25%        50%  \\\n",
      "galaxy                                                                \n",
      "0       28433.0  20.231791  1.851996  10.49820  19.00707  20.579190   \n",
      "1       41566.0  20.902150  2.106089  12.68849  18.90630  21.581005   \n",
      "\n",
      "              75%       max  \n",
      "galaxy                       \n",
      "0       21.533270  30.60700  \n",
      "1       22.439442  31.60224  \n",
      "\n",
      "--------------------------------------------------------------------------------\n",
      "r\n",
      "          count       mean       std       min        25%       50%  \\\n",
      "galaxy                                                                \n",
      "0       28433.0  19.734722  1.818405   9.82207  18.541890  20.15357   \n",
      "1       41566.0  19.581995  1.872222  11.77229  17.812303  20.10107   \n",
      "\n",
      "              75%       max  \n",
      "galaxy                       \n",
      "0       21.125780  29.37411  \n",
      "1       20.963275  29.57186  \n",
      "\n",
      "--------------------------------------------------------------------------------\n",
      "i\n",
      "          count       mean       std        min        25%        50%  \\\n",
      "galaxy                                                                  \n",
      "0       28433.0  19.429044  1.795189   9.469903  18.254250  19.831600   \n",
      "1       41566.0  18.846264  1.688337  11.319370  17.377382  19.217675   \n",
      "\n",
      "              75%       max  \n",
      "galaxy                       \n",
      "0       20.825140  32.14147  \n",
      "1       19.934773  30.16359  \n",
      "\n",
      "--------------------------------------------------------------------------------\n",
      "z\n",
      "          count       mean       std        min       25%       50%  \\\n",
      "galaxy                                                                \n",
      "0       28433.0  19.240711  1.811976   9.612333  18.03419  19.61244   \n",
      "1       41566.0  18.444141  1.655606  10.897380  17.09492  18.76067   \n",
      "\n",
      "              75%       max  \n",
      "galaxy                       \n",
      "0       20.627150  28.79055  \n",
      "1       19.463442  28.23829  \n",
      "\n",
      "--------------------------------------------------------------------------------\n",
      "redshift\n",
      "          count      mean       std       min       25%       50%       75%  \\\n",
      "galaxy                                                                        \n",
      "0       28433.0  0.801073  1.060163 -0.004136 -0.000095  0.000388  1.540357   \n",
      "1       41566.0  0.420785  0.263971 -0.009971  0.164568  0.456604  0.593396   \n",
      "\n",
      "             max  \n",
      "galaxy            \n",
      "0       7.011245  \n",
      "1       1.995524  \n",
      "\n"
     ]
    }
   ],
   "source": [
    "train_df = pd.concat([X_train, y_train], axis=1)\n",
    "\n",
    "for _col in col_num:\n",
    "    print('-'*80)\n",
    "    print(_col)\n",
    "    print(train_df.groupby(col_y)[_col].describe(),end='\\n\\n')\n",
    "    \n",
    "# 수치형 중 의미있어 보이는 변수 redshift"
   ]
  },
  {
   "cell_type": "code",
   "execution_count": 11,
   "id": "dcc2ae93",
   "metadata": {},
   "outputs": [
    {
     "name": "stdout",
     "output_type": "stream",
     "text": [
      "    run_ID  galaxy\n",
      "97    2883     1.0\n",
      "325   6121     1.0\n",
      "399   8054     1.0\n",
      "38    1897     1.0\n",
      "245   4800     1.0\n",
      "..     ...     ...\n",
      "292   5378     0.0\n",
      "279   5237     0.0\n",
      "268   5115     0.0\n",
      "261   5060     0.0\n",
      "424    994     0.0\n",
      "\n",
      "[425 rows x 2 columns]\n",
      "  rerun_ID    galaxy\n",
      "0      301  0.593808\n",
      "  cam_col    galaxy\n",
      "0       1  0.619151\n",
      "3       4  0.612120\n",
      "4       5  0.610490\n",
      "2       3  0.593031\n",
      "1       2  0.583152\n",
      "5       6  0.530405\n",
      "    field_ID  galaxy\n",
      "676      717     1.0\n",
      "750      788     1.0\n",
      "667      708     1.0\n",
      "704      746     1.0\n",
      "706      748     1.0\n",
      "..       ...     ...\n",
      "830      934     0.0\n",
      "829      933     0.0\n",
      "828      932     0.0\n",
      "827      931     0.0\n",
      "835      940     0.0\n",
      "\n",
      "[847 rows x 2 columns]\n",
      "     plate  galaxy\n",
      "6186   999     1.0\n",
      "4292  6417     1.0\n",
      "4263  6388     1.0\n",
      "4264  6389     1.0\n",
      "1082  1900     1.0\n",
      "...    ...     ...\n",
      "1653  2560     0.0\n",
      "1655  2563     0.0\n",
      "1656  2564     0.0\n",
      "3569  5343     0.0\n",
      "1073  1891     0.0\n",
      "\n",
      "[6187 rows x 2 columns]\n",
      "  redshift_upper3    galaxy\n",
      "0               0  0.601125\n",
      "1               1  0.000000\n"
     ]
    }
   ],
   "source": [
    "for _col in col_cat:\n",
    "    print(train_df.groupby(_col, as_index=False)[col_y].mean().sort_values(by=col_y, ascending=False))\n",
    "    # 범주형 변수 중 의미있어 보이는 변수 : cam_col, redshift_upper3"
   ]
  },
  {
   "cell_type": "code",
   "execution_count": 12,
   "id": "c2d184e0",
   "metadata": {},
   "outputs": [],
   "source": [
    "from sklearn.preprocessing import LabelEncoder\n",
    "X = pd.concat([X_train, X_test])\n",
    "\n",
    "for _col in col_cat:\n",
    "    le = LabelEncoder()\n",
    "    le.fit(X[_col])\n",
    "    X_train[_col] = le.transform(X_train[_col])\n",
    "    X_test[_col] = le.transform(X_test[_col])"
   ]
  },
  {
   "cell_type": "code",
   "execution_count": 13,
   "id": "075f7acb",
   "metadata": {},
   "outputs": [],
   "source": [
    "from sklearn.model_selection import train_test_split\n",
    "X_tr, X_val, y_tr, y_val = train_test_split(X_train, y_train, test_size=0.3, stratify=y_train)"
   ]
  },
  {
   "cell_type": "code",
   "execution_count": 15,
   "id": "bfc7a40d",
   "metadata": {},
   "outputs": [
    {
     "name": "stderr",
     "output_type": "stream",
     "text": [
      "C:\\Users\\lg\\anaconda3\\lib\\site-packages\\pandas\\core\\frame.py:3678: SettingWithCopyWarning: \n",
      "A value is trying to be set on a copy of a slice from a DataFrame.\n",
      "Try using .loc[row_indexer,col_indexer] = value instead\n",
      "\n",
      "See the caveats in the documentation: https://pandas.pydata.org/pandas-docs/stable/user_guide/indexing.html#returning-a-view-versus-a-copy\n",
      "  self[col] = igetitem(value, i)\n",
      "C:\\Users\\lg\\anaconda3\\lib\\site-packages\\pandas\\core\\frame.py:3678: SettingWithCopyWarning: \n",
      "A value is trying to be set on a copy of a slice from a DataFrame.\n",
      "Try using .loc[row_indexer,col_indexer] = value instead\n",
      "\n",
      "See the caveats in the documentation: https://pandas.pydata.org/pandas-docs/stable/user_guide/indexing.html#returning-a-view-versus-a-copy\n",
      "  self[col] = igetitem(value, i)\n"
     ]
    }
   ],
   "source": [
    "from sklearn.preprocessing import StandardScaler\n",
    "\n",
    "scaler = StandardScaler()\n",
    "X_tr[col_num] = scaler.fit_transform(X_tr[col_num])\n",
    "X_val[col_num] = scaler.transform(X_val[col_num])\n",
    "X_test[col_num] = scaler.transform(X_test[col_num])"
   ]
  },
  {
   "cell_type": "code",
   "execution_count": 16,
   "id": "3c770378",
   "metadata": {},
   "outputs": [
    {
     "data": {
      "text/plain": [
       "RandomForestClassifier()"
      ]
     },
     "execution_count": 16,
     "metadata": {},
     "output_type": "execute_result"
    }
   ],
   "source": [
    "from sklearn.ensemble import RandomForestClassifier\n",
    "\n",
    "model_rf = RandomForestClassifier()\n",
    "model_rf.fit(X_tr, y_tr.values.ravel())"
   ]
  },
  {
   "cell_type": "code",
   "execution_count": 18,
   "id": "fade55a5",
   "metadata": {},
   "outputs": [
    {
     "data": {
      "text/plain": [
       "XGBClassifier(base_score=0.5, booster='gbtree', callbacks=None,\n",
       "              colsample_bylevel=1, colsample_bynode=1, colsample_bytree=1,\n",
       "              early_stopping_rounds=None, enable_categorical=False,\n",
       "              eval_metric=None, gamma=0, gpu_id=-1, grow_policy='depthwise',\n",
       "              importance_type=None, interaction_constraints='',\n",
       "              learning_rate=0.300000012, max_bin=256, max_cat_to_onehot=4,\n",
       "              max_delta_step=0, max_depth=6, max_leaves=0, min_child_weight=1,\n",
       "              missing=nan, monotone_constraints='()', n_estimators=100,\n",
       "              n_jobs=0, num_parallel_tree=1, predictor='auto', random_state=0,\n",
       "              reg_alpha=0, reg_lambda=1, ...)"
      ]
     },
     "execution_count": 18,
     "metadata": {},
     "output_type": "execute_result"
    }
   ],
   "source": [
    "from xgboost import XGBClassifier\n",
    "\n",
    "model_xgb1 = XGBClassifier()\n",
    "model_xgb1.fit(X_tr, y_tr.values.ravel())"
   ]
  },
  {
   "cell_type": "code",
   "execution_count": 19,
   "id": "a3804ff7",
   "metadata": {},
   "outputs": [
    {
     "name": "stdout",
     "output_type": "stream",
     "text": [
      "0.9907650483082023 0.9890822757736975\n"
     ]
    }
   ],
   "source": [
    "from sklearn.metrics import roc_auc_score\n",
    "\n",
    "y_pred_rf = model_rf.predict_proba(X_val)\n",
    "y_pred_xgb1 = model_xgb1.predict_proba(X_val)\n",
    "\n",
    "score_rf = roc_auc_score(y_val, y_pred_rf[:,1])\n",
    "score_xgb1 = roc_auc_score(y_val, y_pred_xgb1[:,1])\n",
    "\n",
    "print(score_rf, score_xgb1)"
   ]
  },
  {
   "cell_type": "code",
   "execution_count": 21,
   "id": "ef485204",
   "metadata": {},
   "outputs": [
    {
     "name": "stdout",
     "output_type": "stream",
     "text": [
      "            feature     fi_rf    fi_xgb\n",
      "0             alpha  0.015815  0.009571\n",
      "1             delta  0.014780  0.011165\n",
      "2                 u  0.076251  0.024073\n",
      "3                 g  0.080660  0.090870\n",
      "4                 r  0.051962  0.016085\n",
      "5                 i  0.063126  0.021588\n",
      "6                 z  0.114303  0.039535\n",
      "7          redshift  0.502019  0.739468\n",
      "8            run_ID  0.010959  0.009906\n",
      "9          rerun_ID  0.000000  0.000000\n",
      "10          cam_col  0.003861  0.010260\n",
      "11         field_ID  0.008368  0.008461\n",
      "12            plate  0.048993  0.019018\n",
      "13  redshift_upper3  0.008904  0.000000\n"
     ]
    }
   ],
   "source": [
    "print(pd.DataFrame({'feature' : X_tr.columns, 'fi_rf' : model_rf.feature_importances_, \n",
    "                    'fi_xgb' : model_xgb1.feature_importances_}))"
   ]
  },
  {
   "cell_type": "code",
   "execution_count": 25,
   "id": "f73c40e8",
   "metadata": {},
   "outputs": [],
   "source": [
    "pred = model_xgb1.predict_proba(X_test)[:,1]\n",
    "pd.DataFrame({'index' : X_test.index, 'target' : pred}).to_csv('./yemoonsaBigdata/res/003000000.csv')"
   ]
  },
  {
   "cell_type": "code",
   "execution_count": null,
   "id": "95c65ffe",
   "metadata": {},
   "outputs": [],
   "source": []
  }
 ],
 "metadata": {
  "kernelspec": {
   "display_name": "Python 3 (ipykernel)",
   "language": "python",
   "name": "python3"
  },
  "language_info": {
   "codemirror_mode": {
    "name": "ipython",
    "version": 3
   },
   "file_extension": ".py",
   "mimetype": "text/x-python",
   "name": "python",
   "nbconvert_exporter": "python",
   "pygments_lexer": "ipython3",
   "version": "3.9.7"
  }
 },
 "nbformat": 4,
 "nbformat_minor": 5
}
